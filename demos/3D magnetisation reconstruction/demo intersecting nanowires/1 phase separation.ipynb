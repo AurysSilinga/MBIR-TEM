{
 "cells": [
  {
   "cell_type": "markdown",
   "id": "617e45aa",
   "metadata": {},
   "source": [
    "# Phase separation\n",
    "#### This notebook takes a pair of phase image unwrapped in Digital Micrograph and separates the electrostatic and magnetic phase contributions. \n",
    "#### In this notebook the images are aligned, \n",
    "#### warped to remove first order aberations, \n",
    "#### smoothed and rebinned, \n",
    "#### unwrapping errors are masked, \n",
    "#### masks defining confidence and material extent are created."
   ]
  },
  {
   "cell_type": "markdown",
   "id": "c16cab52",
   "metadata": {},
   "source": [
    "## 0. Setup\n",
    "### Imports"
   ]
  },
  {
   "cell_type": "code",
   "execution_count": null,
   "id": "5186357e",
   "metadata": {},
   "outputs": [],
   "source": [
    "%matplotlib qt"
   ]
  },
  {
   "cell_type": "code",
   "execution_count": null,
   "id": "fd1b9fbe",
   "metadata": {},
   "outputs": [],
   "source": [
    "import matplotlib.pyplot as plt\n",
    "import numpy as np\n",
    "from PIL import Image\n",
    "import pickle\n",
    "import os"
   ]
  },
  {
   "cell_type": "code",
   "execution_count": null,
   "id": "d7f74939",
   "metadata": {},
   "outputs": [],
   "source": [
    "import fpd\n",
    "import hyperspy.api as hs\n",
    "import skimage.filters as skfl"
   ]
  },
  {
   "cell_type": "code",
   "execution_count": null,
   "id": "fad96ffc",
   "metadata": {},
   "outputs": [],
   "source": [
    "import pyramid as pr\n",
    "import mbir.alignment as pa\n",
    "import mbir.util as pu\n",
    "import mbir.reconstruction as pre"
   ]
  },
  {
   "cell_type": "markdown",
   "id": "eca5973d",
   "metadata": {},
   "source": [
    "#### Define phase image folder and file names\n",
    "Also define what tilt angle each phase image pair corresponds to"
   ]
  },
  {
   "cell_type": "code",
   "execution_count": null,
   "id": "538558ff",
   "metadata": {},
   "outputs": [],
   "source": [
    "folders = ['+0',\n",
    " '+20',\n",
    " '+30',\n",
    " '-10',\n",
    " '-20',\n",
    " '-30',\n",
    " '-40',\n",
    " '-50',\n",
    " '-60']\n",
    "\n",
    "#Tilt for each projection\n",
    "x_tilts = [float(folder) for folder in folders] # deg\n",
    "\n",
    "#filenames before and after flipping the sample\n",
    "f_name1=\"side 1.dm4\"\n",
    "f_name2=\"side 2.dm4\"\n",
    "\n",
    "\n"
   ]
  },
  {
   "cell_type": "code",
   "execution_count": null,
   "id": "db7f4075",
   "metadata": {},
   "outputs": [],
   "source": [
    "#initiallise storage\n",
    "no_projections=len(folders)\n",
    "datas=[None]*no_projections\n",
    "\n",
    "print(no_projections)"
   ]
  },
  {
   "cell_type": "markdown",
   "id": "0446b393",
   "metadata": {},
   "source": [
    "<a id='index_cell'></a>\n",
    "## 1. Aligning phase images\n",
    "### Run this section once for each tilt angle.\n",
    "### Manual input is required to increment 'i', and to varity if alignment was successfull."
   ]
  },
  {
   "cell_type": "markdown",
   "id": "fc06eab2",
   "metadata": {},
   "source": [
    "### 1.1 Importing files"
   ]
  },
  {
   "cell_type": "markdown",
   "id": "15647b6b",
   "metadata": {},
   "source": [
    "#### Select which folder to process. "
   ]
  },
  {
   "cell_type": "code",
   "execution_count": null,
   "id": "76c201bc",
   "metadata": {},
   "outputs": [],
   "source": [
    "i = 1 # i=0 is first folder in the folder list\n",
    "print(f\"Working on projection at {x_tilts[i]:.1f} deg tilt\")"
   ]
  },
  {
   "cell_type": "markdown",
   "id": "297215f7",
   "metadata": {},
   "source": [
    "#### Define maths for loading and saving the files"
   ]
  },
  {
   "cell_type": "code",
   "execution_count": null,
   "id": "f960af84",
   "metadata": {},
   "outputs": [],
   "source": [
    "#file paths\n",
    "\n",
    "#original images\n",
    "f_path1=folders[i]+'\\\\'+f_name1\n",
    "f_path2=folders[i]+'\\\\'+f_name2\n",
    "\n",
    "# file paths for saving results\n",
    "transform_path=f_path2[:-len(f_name2)]+\"transform.pickle\"\n",
    "mag_phase_path=f_path1[:-len(f_name1)]+\"mag_phase.tif\"\n",
    "elec_phase_path=f_path1[:-len(f_name1)]+\"elec_phase.tif\"\n",
    "data_path=f_path1[:-len(f_name1)]+\"data.pickle\""
   ]
  },
  {
   "cell_type": "markdown",
   "id": "79cc9c70",
   "metadata": {},
   "source": [
    "#### Load phase images and make them into arrays of equal size.\n",
    "If fringe_spacing is given, then spatial resolution is estimated to rebin the images to a sensible pixel size."
   ]
  },
  {
   "cell_type": "code",
   "execution_count": null,
   "id": "fec8401a",
   "metadata": {},
   "outputs": [],
   "source": [
    "#Fringe spacing is used to find the nyquist frequency and maximum resolution\n",
    "fringe_spacing = 2.9 #nm\n",
    "\n",
    "#load dm files\n",
    "s1_orig=hs.load(f_path1)\n",
    "s2_orig=hs.load(f_path2)\n",
    "\n",
    "print(\"loaded\",f_path1,\"and\",f_path2,\"\\n\")\n",
    "\n",
    "s1, s2, a_spacing = pa.equalise_hspy_signals(s1_orig, s2_orig, fringe_spacing=fringe_spacing, plot_original = False, plot_cropped = True)"
   ]
  },
  {
   "cell_type": "markdown",
   "id": "de053789",
   "metadata": {},
   "source": [
    "### 1.2 Aligning phase images"
   ]
  },
  {
   "cell_type": "markdown",
   "id": "f9b1efe7",
   "metadata": {},
   "source": [
    "#### Select a region of interest which will be used to align the phase images. Can be done interactively, or by defining coordinates"
   ]
  },
  {
   "cell_type": "code",
   "execution_count": null,
   "id": "7bda7aae",
   "metadata": {},
   "outputs": [],
   "source": [
    "#set up image cropping\n",
    "\n",
    "interactive = True # whether an interactive cropping UI will be used\n",
    "\n",
    "#start the UI if it is used\n",
    "if interactive:\n",
    "    # make interactive RoI selector\n",
    "    img=s1.data+s2.data\n",
    "    s=hs.signals.Signal2D(img)\n",
    "    s.metadata.General.title = \"Select edge detection area\"\n",
    "    s.plot()\n",
    "    left,right,top,bottom=s.axes_manager.signal_extent\n",
    "    rect=hs.roi.RectangularROI(right*0.1,bottom*0.1,right*0.9,bottom*0.9)\n",
    "    roi2D = rect.interactive(s) \n",
    "    \n",
    "else:\n",
    "    indexes = (116.0, 838.0, 235.0, 784.0)\n",
    "    left,right,top,bottom=[int(x) for x in indexes]"
   ]
  },
  {
   "cell_type": "code",
   "execution_count": null,
   "id": "393e73ca",
   "metadata": {},
   "outputs": [],
   "source": [
    "if interactive:\n",
    "    print(\"Adjust RoI now!\")"
   ]
  },
  {
   "cell_type": "code",
   "execution_count": null,
   "id": "85980126",
   "metadata": {},
   "outputs": [],
   "source": [
    "if interactive:\n",
    "    indexes = roi2D.axes_manager.signal_extent\n",
    "    left,right,top,bottom=[int(x) for x in indexes]\n",
    "    print(\"left, right, top, bottom\", roi2D.axes_manager.signal_extent)\n",
    "\n",
    "roi_joint = np.full(s1.data.shape, False)\n",
    "roi_joint[top:bottom, left:right] = True"
   ]
  },
  {
   "cell_type": "markdown",
   "id": "e924d01f",
   "metadata": {},
   "source": [
    "#### Detect edges for image alignment"
   ]
  },
  {
   "cell_type": "code",
   "execution_count": null,
   "id": "635302be",
   "metadata": {},
   "outputs": [],
   "source": [
    "# identify sample edges\n",
    "sigma=3 #increase to remove noise, but keep low so edges are preserved\n",
    "high_threshold=3.2 #increase until only one edge remains\n",
    "hole_filling_radius = 1 #improves smoothness of masked holes but slows down execution\n",
    "\n",
    "#fill masked holes to avoid discontinuities\n",
    "img1 = pa.fill_raw_dm_image(s1.data, erode_width=3, radius=hole_filling_radius)\n",
    "img2 = pa.fill_raw_dm_image(s2.data, erode_width=3, radius=hole_filling_radius)\n",
    "\n",
    "edges1,edges2 = pa.identify_edges(img1, img2, sigma=sigma, high_threshold=high_threshold, roi=roi_joint)"
   ]
  },
  {
   "cell_type": "markdown",
   "id": "e9e89d09",
   "metadata": {},
   "source": [
    "#### Apply a pattern matching algorith to the detected edges to compute a transform that would align the phase images"
   ]
  },
  {
   "cell_type": "code",
   "execution_count": null,
   "id": "bf2ae992",
   "metadata": {},
   "outputs": [],
   "source": [
    "#measure affline transform between the two images\n",
    "image_warped = True\n",
    "optimise =  True\n",
    "\n",
    "trans_meas = pa.measure_orb_transform(edges1,edges2, image_warped=image_warped, \n",
    "                                   optimise=optimise, trans_path=transform_path, roi=roi_joint, save_trans=False)"
   ]
  },
  {
   "cell_type": "markdown",
   "id": "dbb82c22",
   "metadata": {},
   "source": [
    "#### Apply the transform and calculate the separated magnetic and electrostatic phase shifts."
   ]
  },
  {
   "cell_type": "code",
   "execution_count": null,
   "id": "e07eee3f",
   "metadata": {},
   "outputs": [],
   "source": [
    "#apply transform to image 2\n",
    "s2_tr = s2.copy()\n",
    "s2_tr.data = pa.apply_image_trans(s2.data, trans_meas)\n",
    "\n",
    "#calculate the magnetic and electrostatic images\n",
    "pm_mag=(s1-s2_tr)/2*(1) #-1 to account for wrong sideband being used in phase unwrapping.\n",
    "pm_el=(s1+s2_tr)/2*(1)\n",
    "pm_mag.metadata.General.title=\"magnetic phase, xtilt = %.1f\"%(x_tilts[i])\n",
    "pm_el.metadata.General.title=\"electrostatic phase, xtilt = %.1f\"%(x_tilts[i])\n",
    "\n",
    "pm_mag.plot()\n",
    "pm_el.plot()\n",
    "\n",
    "\n",
    "# #save the magnetic phase image\n",
    "# img=Image.fromarray(pm_mag.data.astype('f4')) \n",
    "# print(\"Magnetic phase saved as:\",mag_phase_path)\n",
    "\n",
    "# #and save electrostatic phase image\n",
    "# img=Image.fromarray(pm_el.data.astype('f4')) \n",
    "# print(\"Electrostatic phase saved as:\",elec_phase_path)"
   ]
  },
  {
   "cell_type": "markdown",
   "id": "6a0db96d",
   "metadata": {},
   "source": [
    "### 1.3 Refining phase components before reconstruction"
   ]
  },
  {
   "cell_type": "markdown",
   "id": "2ede517e",
   "metadata": {},
   "source": [
    "#### Rebin the images and crop them to reduce their size.\n",
    "#### Then smooth them with a gentle gaussian filter to reduce noise, and a median filter to fix bad pixels.\n",
    "#### The reduced and cleaned up images are then used to define a confidence masks.\n",
    "#### Holes left by phase unwrapping errors are filled in.\n",
    "#### Finally edge most pixels of the confidence mask are removed as wrong ('erode_depth' determines how many pixels to remove). "
   ]
  },
  {
   "cell_type": "code",
   "execution_count": null,
   "id": "be559a5a",
   "metadata": {},
   "outputs": [],
   "source": [
    "#Make rebinned, smooth phasemaps\n",
    "\n",
    "# image size reduction\n",
    "rebin_factor_rec = 4 #rebin images to reduce total number of pixels\n",
    "cropping=slice(None,None) # cropping=slice(1,-1) removes one pixel form each edge to reduce image size\n",
    "phase_img_type='f4'\n",
    "\n",
    "# smoothing\n",
    "sigma_mag_rec = 1 #sigma of gaussian filter before magnetisation reconstruction \n",
    "median_footprint=np.ones((9,9))\n",
    "\n",
    "# hole fixing\n",
    "erode_depth=3 #number of pixels to remove from edge\n",
    "fill_convolution_radius=2 #smoothness of filled holes\n",
    "\n",
    "\n",
    "\n",
    "#Define mask showing which pixels are wrong.\n",
    "wrong1=np.where(s1.data==0, True, False) \n",
    "wrong2=np.where(s2_tr.data==0, True, False)\n",
    "wrong=np.logical_or(wrong1, wrong2)\n",
    "\n",
    "#get transformed pixel spacing\n",
    "hs_data=pm_mag.rebin(scale=(rebin_factor_rec,rebin_factor_rec))\n",
    "pix_spacing = hs_data.axes_manager.signal_axes[0].scale # nm\n",
    "\n",
    "phase_images = [pm_mag.data, pm_el.data]\n",
    "phase_images = [im[cropping,cropping] for im in phase_images]\n",
    "wrong = wrong[cropping,cropping]\n",
    "processed_phase_images=[]\n",
    "for img in phase_images:\n",
    "    \n",
    "    #the edge most pixels are wrong, hence erode the edges\n",
    "    img, wrong = pu.erode_masked_image(img, wrong, radius=erode_depth, wrong_pixel_value=0) \n",
    "    \n",
    "    #fill in holes and other free space with smooth extensions of the edges\n",
    "    img, temp = pu.fill_masked_image(img, wrong, radius=fill_convolution_radius)\n",
    "    \n",
    "    #filter and rebin\n",
    "    img = skfl.median(img, selem = median_footprint, behavior=\"ndimage\") #remove difference errors and hot pixels\n",
    "    img = skfl.gaussian(img, sigma=sigma_mag_rec) #smooth to remove high spatial frequency noise\n",
    "    img = pu.rebin_img(img, rebin_factor=rebin_factor_rec) #reduce pixel number to reduce memory requirements\n",
    "    img = img.astype(phase_img_type)\n",
    "    processed_phase_images.append(img)\n",
    "    \n",
    "mag_phase, el_phase = processed_phase_images\n",
    "\n",
    "#adjust confidence array to match\n",
    "confidence=np.where(wrong,0,1)\n",
    "confidence = pu.rebin_img(confidence, rebin_factor=rebin_factor_rec)\n",
    "confidence = np.where(confidence>0.9, 1, 0)\n",
    "confidence = confidence.astype(phase_img_type)\n",
    "\n",
    "#highlight wrong areas\n",
    "outside_mask = pa.get_space_around_mask(confidence<1)\n",
    "#el_phase[outside_mask] = 0 #keep holes inside the object filled as that improves mask creation but remove unkown mask regions\n",
    "\n",
    "#save and display\n",
    "# Image.fromarray(mag_phase).save(mag_phase_path+\"_smoothed_rebinned.tif\")\n",
    "print(\"Image shapes:\", mag_phase.shape, el_phase.shape, confidence.shape)\n",
    "print(\"Image dtype:\", mag_phase.dtype)\n",
    "print(\"Pixel spacing:\", pix_spacing, \"nm\")\n",
    "pu.matshow_n([mag_phase,el_phase,confidence],[\"Magnetic phase\", \"Mean inner potential\", \"Confidence\"])"
   ]
  },
  {
   "cell_type": "markdown",
   "id": "bc78c3b6",
   "metadata": {},
   "source": [
    "### 1.4 Defining material mask"
   ]
  },
  {
   "cell_type": "markdown",
   "id": "992bc09d",
   "metadata": {},
   "source": [
    "#### Select where magnetic material is located"
   ]
  },
  {
   "cell_type": "code",
   "execution_count": null,
   "id": "e6fa8005",
   "metadata": {},
   "outputs": [],
   "source": [
    "#Normalise mean inner potential and define a mask.\n",
    "mask_threshold=-3 #rad. where the material starts if mean-inner-potential in vacccum is 0.\n",
    "residual_threshold = 2 #to avoid outliers in the background fit\n",
    "\n",
    "#remove electrostatic phase ramp\n",
    "(fit, inliers, n) = fpd.ransac_tools.ransac_im_fit(el_phase, \n",
    "                                                   residual_threshold=residual_threshold, mask = confidence < 1,\n",
    "                                                   mode=2, plot=True)\n",
    "\n",
    "# Make mean inner potential vaccum phase == 0.\n",
    "el_flat = el_phase - fit\n",
    "#el_flat[outside_mask]=0\n",
    "\n",
    "# Define mask and remove false pixels\n",
    "mask=np.where(el_flat<mask_threshold, True, False)\n",
    "#mask[outside_mask] = False\n",
    "\n",
    "print(\"2D mask shape:\", mask.shape)\n",
    "print(\"Mask threshold:\", mask_threshold)\n",
    "#check if threshold is appropriate\n",
    "pu.matshow_n([el_flat, mask],[elec_phase_path[:-4]+\"mask selector\", elec_phase_path[:-4]+\"mask\"], save=False)\n"
   ]
  },
  {
   "cell_type": "markdown",
   "id": "f60ebf99",
   "metadata": {},
   "source": [
    "### 1.5 Saving results\n",
    "#### Saves a DataSet object (as .pickle), that contains all information about one phase image in one file."
   ]
  },
  {
   "cell_type": "code",
   "execution_count": null,
   "id": "e3108dfd",
   "metadata": {},
   "outputs": [],
   "source": [
    "#create data storage object for reconstruction and save it\n",
    "save_data=True\n",
    "\n",
    "xtilt=x_tilts[i]\n",
    "\n",
    "print(\"i:\",i)\n",
    "print(\"xtilt:\", xtilt)\n",
    "\n",
    "datas[i]=pa.make_projection_data_simple(mag_phase, mask, confidence, xtilt=xtilt, pix_spacing=pix_spacing, save_data=save_data, data_path=data_path)"
   ]
  },
  {
   "cell_type": "markdown",
   "id": "bd323064",
   "metadata": {},
   "source": [
    "### 1.6 2D reconstruction to check correctness"
   ]
  },
  {
   "cell_type": "code",
   "execution_count": null,
   "id": "ac32d8aa",
   "metadata": {},
   "outputs": [],
   "source": [
    "#quick reconstruction\n",
    "\n",
    "magdata_rec, cost_fun = pre.reconstruct_from_phasemaps_simple(datas[i], verbose=False, max_iter=200)"
   ]
  },
  {
   "cell_type": "markdown",
   "id": "3d017cda",
   "metadata": {},
   "source": [
    "### Hyperlink\n",
    "[Back to index defining cell](#index_cell)\n",
    "\n",
    "#### End of notebook. Once phase images have been aligned for all tilt angles, see alignment notebook to form a tilt series."
   ]
  }
 ],
 "metadata": {
  "kernelspec": {
   "display_name": "Python 3 (ipykernel)",
   "language": "python",
   "name": "python3"
  },
  "language_info": {
   "codemirror_mode": {
    "name": "ipython",
    "version": 3
   },
   "file_extension": ".py",
   "mimetype": "text/x-python",
   "name": "python",
   "nbconvert_exporter": "python",
   "pygments_lexer": "ipython3",
   "version": "3.9.19"
  }
 },
 "nbformat": 4,
 "nbformat_minor": 5
}
