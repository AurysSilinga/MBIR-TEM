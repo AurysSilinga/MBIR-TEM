{
 "cells": [
  {
   "cell_type": "markdown",
   "id": "0da51d07",
   "metadata": {},
   "source": [
    "## Notebook for aligning phase images in a tilt series\n",
    "\n",
    "### 0. Global parameter definitions\n",
    "### 1. Measuring miss-tilt and finding rotation axis\n",
    "### 2. Correcting sample drift\n",
    "### 3. Creating 3-D mask\n",
    "#### Imports"
   ]
  },
  {
   "cell_type": "code",
   "execution_count": 4,
   "id": "59e057c1",
   "metadata": {},
   "outputs": [],
   "source": [
    "%matplotlib qt"
   ]
  },
  {
   "cell_type": "code",
   "execution_count": 5,
   "id": "6321a79d",
   "metadata": {},
   "outputs": [],
   "source": [
    "import matplotlib.pyplot as plt\n",
    "import numpy as np\n",
    "from PIL import Image\n",
    "import pickle\n",
    "import os"
   ]
  },
  {
   "cell_type": "code",
   "execution_count": 6,
   "id": "30de8e0b",
   "metadata": {},
   "outputs": [],
   "source": [
    "import fpd\n",
    "import hyperspy.api as hs\n",
    "import skimage.filters as skfl"
   ]
  },
  {
   "cell_type": "code",
   "execution_count": 8,
   "id": "dc83960f",
   "metadata": {},
   "outputs": [],
   "source": [
    "import pyramid as pr\n",
    "import mbir.alignment as pa\n",
    "import mbir.util as pu\n",
    "import mbir.reconstruction as pre"
   ]
  },
  {
   "cell_type": "markdown",
   "id": "8810001e",
   "metadata": {},
   "source": [
    "### 0. Global parameter definitions\n",
    "#### Define where the DataSet objects with each phase image are located"
   ]
  },
  {
   "cell_type": "code",
   "execution_count": 9,
   "id": "efc65a48",
   "metadata": {},
   "outputs": [],
   "source": [
    "#file paths\n",
    "\n",
    "folders = ['+0',\n",
    " '+20',\n",
    " '+30',\n",
    " '-10',\n",
    " '-20',\n",
    " '-30',\n",
    " '-40',\n",
    " '-50',\n",
    " '-60']\n",
    "\n",
    "# file names for single (phasemap + projector + mask) datasets\n",
    "f_name=\"data.pickle\""
   ]
  },
  {
   "cell_type": "code",
   "execution_count": 10,
   "id": "2499f3fd",
   "metadata": {},
   "outputs": [],
   "source": [
    "#load all the phase images\n",
    "no_projections=len(folders)\n",
    "datas=[None]*no_projections\n",
    "\n",
    "for i in range(len(datas)):\n",
    "    data_path=folders[i]+'\\\\'+f_name\n",
    "    with open(data_path, 'rb') as f:\n",
    "        datas[i]=pickle.load(f)"
   ]
  },
  {
   "cell_type": "code",
   "execution_count": 11,
   "id": "381116ff",
   "metadata": {},
   "outputs": [
    {
     "name": "stdout",
     "output_type": "stream",
     "text": [
      "phasemap 0 shape (120, 116)\n",
      "phasemap 1 shape (120, 116)\n",
      "phasemap 2 shape (120, 116)\n",
      "phasemap 3 shape (120, 116)\n",
      "phasemap 4 shape (120, 116)\n",
      "phasemap 5 shape (120, 116)\n",
      "phasemap 6 shape (120, 116)\n",
      "phasemap 7 shape (120, 116)\n",
      "phasemap 8 shape (120, 116)\n",
      "Pixel spacing is 10.266 +/- 5.99e-07\n"
     ]
    }
   ],
   "source": [
    "#plot masks and phasemaps\n",
    "masks=[]\n",
    "phasemaps_raw=[]\n",
    "for i in range(len(datas)):\n",
    "    datas[i].plot_phasemaps()\n",
    "    phasemap=datas[i].phasemaps[0]\n",
    "    phasemaps_raw.append(phasemap)\n",
    "    print(f\"phasemap {i} shape\", phasemap.dim_uv)\n",
    "    \n",
    "phasemaps=pa.pad_equalise_tilt_series(phasemaps_raw)\n",
    "    \n",
    "for pm in phasemaps:\n",
    "    mask=pm.mask\n",
    "    masks.append(mask)"
   ]
  },
  {
   "cell_type": "markdown",
   "id": "e3f73fde",
   "metadata": {},
   "source": [
    "### 1. Measuring miss-tilt and finding rotation axis\n",
    "#### Start with approximate alignment of sample position"
   ]
  },
  {
   "cell_type": "code",
   "execution_count": 12,
   "id": "b11daa2f",
   "metadata": {},
   "outputs": [],
   "source": [
    "#Before measuring the projection angles, shift all phase images such that the sample is in approximately the same position.\n",
    "\n",
    "# method is \"cross_correlation\" or \"centre_of_mass\"\n",
    "method=\"centre_of_mass\"\n",
    "# index of the reference image all others should be compared to and shifted to match\n",
    "test_image_index=0\n",
    "\n",
    "\n",
    "shifts = pa.find_image_shifts(masks, method=method)\n",
    "phasemaps_similar = pa.pad_translate_tilt_series(phasemaps, shifts)\n",
    "projectors=[data.projectors[0] for data in datas]"
   ]
  },
  {
   "cell_type": "markdown",
   "id": "b11c5e1f-351f-4521-858a-bb5c41468b3f",
   "metadata": {},
   "source": [
    "#### Define a region where the symmetry axis of a nanowire can be measured"
   ]
  },
  {
   "cell_type": "code",
   "execution_count": 13,
   "id": "7df9b323",
   "metadata": {},
   "outputs": [],
   "source": [
    "#fit a line to each mask and determine wire angle. Also extract x-tilt values from projectors.\n",
    "\n",
    "crop_right=80\n",
    "crop_left=25\n",
    "crop_bottom=80\n",
    "crop_top=0\n",
    "\n",
    "tana, xtilts = pa.measure_wire_orientations(phasemaps_similar, projectors, crop_right=crop_right, crop_left=crop_left, \n",
    "                                         crop_bottom=crop_bottom, crop_top=crop_top, plot_results=True, verbose=False)"
   ]
  },
  {
   "cell_type": "markdown",
   "id": "c4cbaafd-8cef-4123-a239-e7788d4ec3b7",
   "metadata": {},
   "source": [
    "#### Based on measurements of symmetry axis direction, estimate the orientation of the axis of rotation (th0), and the starting miss-tilt (p0)"
   ]
  },
  {
   "cell_type": "code",
   "execution_count": 14,
   "id": "1b0210a3",
   "metadata": {},
   "outputs": [
    {
     "name": "stdout",
     "output_type": "stream",
     "text": [
      "root theta: 9.55 deg +6.242 / -6.242\n",
      "root x_tilt: 6.47 deg +1.297 / -1.297\n",
      "distance from 0 error: 0.0020326497804954305\n"
     ]
    }
   ],
   "source": [
    "# define an error function that goes to 0 if the correct axis of rotation is identified \n",
    "# Method is true for an arbitrarily orientated volume of revolution (e.g. cylinders and cones).\n",
    "#methods = 'L-BFGS-B' or 'TNC'\n",
    "# lowest 'distance from 0' is best\n",
    "\n",
    "tilt_axis_direction_guess=np.radians(15)\n",
    "miss_tilt_guess=np.radians(0)\n",
    "\n",
    "sol, fun = pa.minimise_total_error(tana, xtilts, x0 = [tilt_axis_direction_guess, miss_tilt_guess], method='TNC', \n",
    "                                   error_window_width=np.radians(3)) \n",
    "th0, p0 = sol.x\n",
    "#print(sol)"
   ]
  },
  {
   "cell_type": "code",
   "execution_count": 15,
   "id": "ce83f997",
   "metadata": {},
   "outputs": [],
   "source": [
    "#inspect the error function\n",
    "pa.plot_3D_surface(fun)\n",
    "\n",
    "#zoom in on the solution in the error function\n",
    "range_rad=np.radians(3)\n",
    "\n",
    "bracket = [[-range_rad+th0, range_rad+th0],[-range_rad+p0, range_rad+p0]]\n",
    "pa.plot_3D_surface(fun, bracket=bracket, title=\"Error function (zoomed in)\")"
   ]
  },
  {
   "cell_type": "code",
   "execution_count": null,
   "id": "e5975c92-daad-4405-8fa7-f0b7fd71ebd6",
   "metadata": {},
   "outputs": [],
   "source": [
    "#### remeasure the sample symmetry axis after correction have been applied."
   ]
  },
  {
   "cell_type": "code",
   "execution_count": 23,
   "id": "66862815",
   "metadata": {},
   "outputs": [],
   "source": [
    "#refine tilt and direction measurements\n",
    "#rotates the images to have tilt axis be horizontal and accounts for miss-tilt\n",
    "\n",
    "crop_right=70\n",
    "crop_left=30\n",
    "crop_bottom=80\n",
    "crop_top=0\n",
    "\n",
    "\n",
    "tana_ref, xtilts_ref = pa.measure_wire_orientations(phasemaps_similar, projectors, theta=th0, xtilt0=p0, \n",
    "                                                    crop_right=crop_right, crop_left=crop_left, \n",
    "                                         crop_bottom=crop_bottom, crop_top=crop_top, plot_results=True, verbose=False)\n"
   ]
  },
  {
   "cell_type": "markdown",
   "id": "b2888e1f-7e07-473b-9451-814f05261e8a",
   "metadata": {},
   "source": [
    "#### apply the measured axis of rotation to correct the phase maps"
   ]
  },
  {
   "cell_type": "code",
   "execution_count": 25,
   "id": "4384738f",
   "metadata": {},
   "outputs": [
    {
     "name": "stdout",
     "output_type": "stream",
     "text": [
      "\n",
      "rotating phasemaps\n",
      "\n",
      "centring phasemaps\n",
      "\n",
      "x-shifting phasemaps\n",
      "shifts (index, (dy,dx)): [(0, (0, -3)), (1, (0, 5)), (2, (0, 4)), (3, (0, 0)), (4, (0, -1)), (5, (0, 1)), (6, (0, -2)), (7, (0, -1)), (8, (0, -4))]\n",
      "\n",
      "trimming some empty space from phasemaps\n",
      "\n",
      "aligning phasemap projections\n",
      "0 tilt mask is calculated from mask 3\n",
      "Starting projector calculation for tilt 6.47 deg\n",
      "Starting projector calculation for tilt 26.47 deg\n",
      "Starting projector calculation for tilt 36.47 deg\n",
      "Starting projector calculation for tilt -3.53 deg\n",
      "Starting projector calculation for tilt -13.53 deg\n",
      "Starting projector calculation for tilt -23.53 deg\n",
      "Starting projector calculation for tilt -33.53 deg\n",
      "Starting projector calculation for tilt -43.53 deg\n",
      "Starting projector calculation for tilt -53.53 deg\n",
      "projector calculations finished\n",
      "\n",
      "Mask 0 Y-shift = 3, Wire direction error = -1.22 deg\n",
      "Mask 1 Y-shift = 0, Wire direction error = -0.42 deg\n",
      "Mask 2 Y-shift = 5, Wire direction error = -0.75 deg\n",
      "Mask 3 Y-shift = 0, Wire direction error = 0.00 deg\n",
      "Mask 4 Y-shift = -2, Wire direction error = 0.27 deg\n",
      "Mask 5 Y-shift = 2, Wire direction error = -0.93 deg\n",
      "Mask 6 Y-shift = 4, Wire direction error = -0.58 deg\n",
      "Mask 7 Y-shift = 1, Wire direction error = -0.70 deg\n",
      "Mask 8 Y-shift = 2, Wire direction error = -0.02 deg\n",
      "Average wire direction alignment error: 0.667 deg\n",
      "\n",
      "trimming all unnecessary empty space from phasemaps\n",
      "\n",
      "finished alignments\n"
     ]
    }
   ],
   "source": [
    "#align the phasemaps\n",
    "\n",
    "#identify the location of the wire tip\n",
    "tip_axis=1 # 0 -> y_axis, 1 -> x_axis #which direction should the wire tip stands out.\n",
    "use_high_end=True # right side of the image if the high end of axis 1.\n",
    "\n",
    "#adjust to select the wanted feature on the flattest lying image\n",
    "crop_right=70\n",
    "crop_left=30\n",
    "crop_bottom=80\n",
    "crop_top=0\n",
    "\n",
    "\n",
    "\n",
    "tilts = np.degrees(xtilts_ref)\n",
    "axis_rot = np.degrees(th0)\n",
    "phasemap_titles=[\"projection at %.1f deg\"%tilt for tilt in tilts]\n",
    "\n",
    "#rotate the phasemaps such that x-axis coresponds to tilt axis\n",
    "print(\"\\nrotating phasemaps\")\n",
    "phasemaps_rot=pa.rotate_phasemaps(phasemaps_similar, axis_rot, smooth_masks=True)\n",
    " \n",
    "\n",
    "#centre the phase images such that the confidence region centres coincide\n",
    "print(\"\\ncentring phasemaps\") \n",
    "phasemaps_centered = pa.centre_phasemaps(phasemaps_rot, padded=False)\n",
    "\n",
    "\n",
    "#measure translations of the needle tip along the x-axis and correct\n",
    "print(\"\\nx-shifting phasemaps\")\n",
    "phasemaps_translated = pa.align_wire_tips(phasemaps_centered, axis=tip_axis, use_high_end=use_high_end, padded=False, verbose=True)\n",
    "\n",
    "#trim unnecessary empty space\n",
    "print(\"\\ntrimming some empty space from phasemaps\")\n",
    "phasemaps_trim = pa.trim_empty_space(phasemaps_translated, equal_trim=True)\n",
    "\n",
    "#calculate projections of a starting image and shift all others to match.\n",
    "print(\"\\naligning phasemap projections\")\n",
    "phasemaps_corrected, reconstruction_dimensions = pa.align_wire_directions(phasemaps_trim, tilts, plot_fits=True, plot_aligned_masks=True, crop_right=crop_right,\n",
    "                        crop_left=crop_left, crop_top=crop_top, crop_bottom=crop_bottom,\n",
    "                        test_mask_index=None, use_round_projection=False, \n",
    "                        axis=1, z_ang=0, subcount=5, padded=False, verbose=True)\n",
    "\n",
    "\n",
    "#trim unnecessary empty space\n",
    "print(\"\\ntrimming all unnecessary empty space from phasemaps\")\n",
    "phasemaps_aligned = pa.trim_empty_space(phasemaps_corrected, equal_trim=False, verbose=False)\n",
    "\n",
    "print(\"\\nfinished alignments\")"
   ]
  },
  {
   "cell_type": "markdown",
   "id": "cb520bc3-87fd-4932-a367-bff0a1026518",
   "metadata": {},
   "source": [
    "#### Inspect aligned phase maps"
   ]
  },
  {
   "cell_type": "code",
   "execution_count": 32,
   "id": "9caffa6a",
   "metadata": {},
   "outputs": [],
   "source": [
    "plot_slice=slice(None)\n",
    "t=[pm.plot_phase() for pm in phasemaps_aligned[plot_slice]]"
   ]
  },
  {
   "cell_type": "code",
   "execution_count": 30,
   "id": "fbe7b07a",
   "metadata": {},
   "outputs": [
    {
     "data": {
      "text/plain": [
       "(47, 117, 107)"
      ]
     },
     "execution_count": 30,
     "metadata": {},
     "output_type": "execute_result"
    }
   ],
   "source": [
    "# Size of 3D volume needed to accomodate all of the geometric 3D model.\n",
    "reconstruction_dimensions"
   ]
  },
  {
   "cell_type": "markdown",
   "id": "35957206",
   "metadata": {},
   "source": [
    "### 2. Creating 3-D mask\n",
    "#### Backproject a subset of the tilt series to determine what 3D volume dimensions are necessary."
   ]
  },
  {
   "cell_type": "code",
   "execution_count": 31,
   "id": "3c06433c",
   "metadata": {},
   "outputs": [
    {
     "name": "stdout",
     "output_type": "stream",
     "text": [
      "Reconstruction voxel number: 312975\n",
      "Pixel size: 10.2657 nm\n",
      "3d reconstructions dimensions: (25, 117, 107)\n",
      "starting projector calculation\n",
      "1/1; projector calculation finished\n",
      "\n"
     ]
    },
    {
     "data": {
      "text/plain": [
       "<mayavi.modules.iso_surface.IsoSurface at 0x1a7d8620ef0>"
      ]
     },
     "execution_count": 31,
     "metadata": {},
     "output_type": "execute_result"
    }
   ],
   "source": [
    "#test if the 3-D mask is created correctly when using a small number of phasemaps\n",
    "\n",
    "dimz, dimy, dimx = reconstruction_dimensions\n",
    "dim=(5,dimy,dimx) # reduce the dimension to make the code run faster\n",
    "\n",
    "selection=slice(0,1)\n",
    "z_rotation=0 #deg\n",
    "\n",
    "no_slices=len(phasemaps_aligned)\n",
    "z_rots=([z_rotation]*no_slices)\n",
    "camera_rots=([camera_rotation]*no_slices)\n",
    "pixel_spacing= phasemaps_aligned[0].a\n",
    "\n",
    "\n",
    "\n",
    "\n",
    "data_test=pa.make_projection_data(phasemaps_aligned[selection], z_rots[selection], tilts[selection], camera_rots[selection], \n",
    "                               pixel_spacing, dim=dim, plot_results=False)\n",
    "\n",
    "data_test.plot_mask(title=\"3d mask\")"
   ]
  },
  {
   "cell_type": "markdown",
   "id": "8de72cd2-162d-479c-8b97-0f62c9dbca2a",
   "metadata": {},
   "source": [
    "#### Backproject all phasemaps to create a 3D model"
   ]
  },
  {
   "cell_type": "code",
   "execution_count": 38,
   "id": "434fc935",
   "metadata": {},
   "outputs": [
    {
     "name": "stdout",
     "output_type": "stream",
     "text": [
      "Reconstruction voxel number: 177219\n",
      "Pixel size: 10.2657 nm\n",
      "3d reconstructions dimensions: (21, 97, 87)\n",
      "starting projector calculation\n",
      "1/9; 2/9; 3/9; 4/9; 5/9; 6/9; 7/9; 8/9; 9/9; projector calculation finished\n",
      "\n"
     ]
    },
    {
     "data": {
      "text/plain": [
       "<mayavi.modules.iso_surface.IsoSurface at 0x1a7f2ee7360>"
      ]
     },
     "execution_count": 38,
     "metadata": {},
     "output_type": "execute_result"
    }
   ],
   "source": [
    "#now calculate projectors for all phasemaps\n",
    "dim=(21,dimy-20,dimx-20) # reduce dimensiont to make the calculation faster. Must have odd numbers.\n",
    "extra_tilt = -6 #deg. if we want to intentionally introduce miss-tilt to make the sample lie flat.\n",
    "\n",
    "x_tilts = tilts + extra_tilt\n",
    "\n",
    "data_series=pa.make_projection_data(phasemaps_aligned, z_rots, x_tilts, camera_rots, \n",
    "                               pixel_spacing, dim=dim, plot_results=False)\n",
    "\n",
    "data_series.plot_mask(title=\"raw mask\")"
   ]
  },
  {
   "cell_type": "markdown",
   "id": "4354167f",
   "metadata": {},
   "source": [
    "#### By comparing to SEM images we can identify the missing wedge artefact in the geometric model. To correct it, we can edit mask manually in MS paint."
   ]
  },
  {
   "cell_type": "code",
   "execution_count": 43,
   "id": "0c458000",
   "metadata": {},
   "outputs": [
    {
     "name": "stdout",
     "output_type": "stream",
     "text": [
      "png shape (21, 97, 4)\n",
      "mask_projection.png\n"
     ]
    }
   ],
   "source": [
    "mask_projection_axis=2  # 012 <-> zyx\n",
    "data_series.set_3d_mask(threshold=1)\n",
    "fname=pa.save_editable_mask(data_series.mask, axis=mask_projection_axis)\n",
    "print(fname)"
   ]
  },
  {
   "cell_type": "code",
   "execution_count": 44,
   "id": "e3b38708",
   "metadata": {},
   "outputs": [
    {
     "name": "stdout",
     "output_type": "stream",
     "text": [
      ".png shape (21, 97, 4)\n",
      "mask shape (21, 97, 87)\n"
     ]
    },
    {
     "data": {
      "text/plain": [
       "<mayavi.modules.iso_surface.IsoSurface at 0x1a7d63690e0>"
      ]
     },
     "execution_count": 44,
     "metadata": {},
     "output_type": "execute_result"
    }
   ],
   "source": [
    "data_series.mask = pa.load_png_mask(data_series.mask, \"mask_projection - Copy.png\", axis=mask_projection_axis)\n",
    "data_series.plot_mask(title=\"cropped mask\")"
   ]
  },
  {
   "cell_type": "markdown",
   "id": "111f04c9",
   "metadata": {},
   "source": [
    "#### refine the mask"
   ]
  },
  {
   "cell_type": "code",
   "execution_count": 47,
   "id": "40424fd9",
   "metadata": {},
   "outputs": [],
   "source": [
    "#find best 3d mask smoothing\n",
    "mask_threshold = 0.45 # cut-off threshold for redefining the mask\n",
    "sigma_mask=1 #gaussian filter standard deviation\n",
    "\n",
    "mask3d_0 = data_series.mask.copy()\n",
    "mask3d = np.where(data_series.mask, 1.0, 0.0)\n",
    "mask3d = skfl.gaussian(mask3d, sigma = sigma_mask)\n",
    "mask3d = np.where(mask3d > mask_threshold, True, False)\n",
    "pu.matshow_n([np.sum(data_series.mask,axis=0), np.sum(mask3d,axis=0)],[\"old mask\",\"smooth mask\"] )\n",
    "data_series.mask = mask3d\n",
    "data_series.plot_mask(title=\"smoothed mask\")\n",
    "data_series.mask = mask3d_0"
   ]
  },
  {
   "cell_type": "code",
   "execution_count": 48,
   "id": "2f14c516",
   "metadata": {},
   "outputs": [],
   "source": [
    "#save the best smoothed mask\n",
    "data_series.mask = mask3d\n"
   ]
  },
  {
   "cell_type": "markdown",
   "id": "98468d74",
   "metadata": {},
   "source": [
    "#### Save aligned data series"
   ]
  },
  {
   "cell_type": "code",
   "execution_count": 50,
   "id": "900639ca",
   "metadata": {},
   "outputs": [],
   "source": [
    "with open(r\"results\\data_series.pickle\", \"wb\") as f:\n",
    "    pickle.dump(data_series, f)"
   ]
  },
  {
   "cell_type": "code",
   "execution_count": 51,
   "id": "df504fee",
   "metadata": {},
   "outputs": [],
   "source": [
    "# inspect the phasemaps\n",
    "data_series.plot_phasemaps()"
   ]
  },
  {
   "cell_type": "markdown",
   "id": "360f5e01",
   "metadata": {},
   "source": [
    "### Quick reconstruction\n",
    "Unlikely to produce quantitative results, but can be used for inspection."
   ]
  },
  {
   "cell_type": "code",
   "execution_count": 53,
   "id": "c53d0077",
   "metadata": {},
   "outputs": [],
   "source": [
    "with open(\"results\\data_series.pickle\", \"rb\") as f:\n",
    "    data_series_r=pickle.load(f)\n",
    "mask0 = data_series.mask.copy()"
   ]
  },
  {
   "cell_type": "code",
   "execution_count": 55,
   "id": "fd5dc1d0",
   "metadata": {},
   "outputs": [
    {
     "data": {
      "application/vnd.jupyter.widget-view+json": {
       "model_id": "",
       "version_major": 2,
       "version_minor": 0
      },
      "text/plain": [
       "CG:   0%|          | 0/200 [00:00<?, ?it/s]"
      ]
     },
     "metadata": {},
     "output_type": "display_data"
    }
   ],
   "source": [
    "magdata_rec, cost_fun = pre.reconstruct_from_phasemaps_simple(data_series_r, lam=1e-2, verbose=True, max_iter=200)"
   ]
  },
  {
   "cell_type": "markdown",
   "id": "e43d6039-d1cb-498b-989c-5e16828c60e4",
   "metadata": {},
   "source": [
    "#### End of notebook. Once the tilt series is aligned and a geometric 3D model is defined, see the magnetisation recontruction notebook for a quantitative reconstruction."
   ]
  }
 ],
 "metadata": {
  "kernelspec": {
   "display_name": "Python 3 (ipykernel)",
   "language": "python",
   "name": "python3"
  },
  "language_info": {
   "codemirror_mode": {
    "name": "ipython",
    "version": 3
   },
   "file_extension": ".py",
   "mimetype": "text/x-python",
   "name": "python",
   "nbconvert_exporter": "python",
   "pygments_lexer": "ipython3",
   "version": "3.9.19"
  }
 },
 "nbformat": 4,
 "nbformat_minor": 5
}
