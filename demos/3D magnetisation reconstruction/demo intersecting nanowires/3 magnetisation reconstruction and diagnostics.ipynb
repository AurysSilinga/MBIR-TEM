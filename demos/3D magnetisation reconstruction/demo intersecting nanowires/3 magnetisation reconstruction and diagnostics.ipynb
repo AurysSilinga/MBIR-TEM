{
 "cells": [
  {
   "cell_type": "markdown",
   "id": "ae872d9b",
   "metadata": {},
   "source": [
    "## Notebook for reconstructing magnetisation from a single aligned tilt-series\n",
    "\n",
    "### 1. 3D mask adjustments\n",
    "### 2. Reconstruction\n",
    "### 3. Inspection\n",
    "### 4. Diagnostics\n",
    "\n",
    "#### Imports"
   ]
  },
  {
   "cell_type": "code",
   "execution_count": 2,
   "id": "43b5bc95",
   "metadata": {},
   "outputs": [],
   "source": [
    "%matplotlib qt"
   ]
  },
  {
   "cell_type": "code",
   "execution_count": 3,
   "id": "d658a0f4-f3e2-483b-a0c0-b4b33a3daeae",
   "metadata": {},
   "outputs": [],
   "source": [
    "import matplotlib.pyplot as plt\n",
    "import numpy as np\n",
    "from PIL import Image\n",
    "import pickle\n",
    "import os"
   ]
  },
  {
   "cell_type": "code",
   "execution_count": 4,
   "id": "7cfba722",
   "metadata": {},
   "outputs": [],
   "source": [
    "from timeit import default_timer as timer\n",
    "import hyperspy.api as hs\n",
    "import skimage.filters as skfl"
   ]
  },
  {
   "cell_type": "code",
   "execution_count": 5,
   "id": "df102f15",
   "metadata": {},
   "outputs": [],
   "source": [
    "#load editable developement pyramid version\n",
    "import sys\n",
    "\n",
    "pyramid_dev_version_path=os.path.abspath(r\"D:\\Programmes\\Git\\empyre-patched\\empyre\")\n",
    "sys.path.append(pyramid_dev_version_path)"
   ]
  },
  {
   "cell_type": "code",
   "execution_count": 6,
   "id": "f4df25d4",
   "metadata": {},
   "outputs": [],
   "source": [
    "import pyramid as pr\n",
    "import mbir.alignment as pa\n",
    "import mbir.util as pu\n",
    "import mbir.reconstruction as pre\n",
    "import mbir.diagnostics as pd"
   ]
  },
  {
   "cell_type": "markdown",
   "id": "ae4a4925-e712-4722-9c14-2d330b696ac0",
   "metadata": {},
   "source": [
    "### 1. Mask adjustments \n",
    "#### Load and inspect the data"
   ]
  },
  {
   "cell_type": "code",
   "execution_count": 7,
   "id": "39ef55ff-84ed-4328-b1c1-43f9db52e576",
   "metadata": {},
   "outputs": [],
   "source": [
    "result_folder=r\".\\results\"\n",
    "results={}\n",
    "\n",
    "with open(result_folder+r\"\\data_series.pickle\", \"rb\") as f: \n",
    "    data_series=pickle.load(f)"
   ]
  },
  {
   "cell_type": "code",
   "execution_count": null,
   "id": "f7a4aa45-265d-4ea5-8b49-fb2ce31f5452",
   "metadata": {},
   "outputs": [],
   "source": [
    "data_series.plot_mask()\n",
    "dimz, dimy, dimx = data_series.dim\n",
    "pu.matshow_n([np.sum(data_series.mask,axis=0), np.sum(data_series.mask,axis=1), np.sum(data_series.mask,axis=2)],\n",
    "         [\"z sum\",\"y sum\", \"x sum\"])\n",
    "print(\"Pixel spacing: %.3f nm\"%data_series.a)\n",
    "print(\"Reconstruction dimensions (z,y,x):\",data_series.dim)"
   ]
  },
  {
   "cell_type": "markdown",
   "id": "c4de0cbb-fdd0-49e7-a76c-9c41c6a758bd",
   "metadata": {},
   "source": [
    "#### Optimise mask position to speed up reconstruction and include boundary charges"
   ]
  },
  {
   "cell_type": "code",
   "execution_count": null,
   "id": "2555c383-52fd-4aa7-99d9-43d0856c557e",
   "metadata": {},
   "outputs": [],
   "source": [
    "last_valid_x_slice=10 # how far from the left edge the model starts being correct\n",
    "x_extension=1 # how much boundary charges to add.\n",
    "auto_centre=True\n",
    "\n",
    "data_refined, mask_edge = pre.translate_trim_data_series(data_series, auto_centre=auto_centre, x_extension = x_extension, \n",
    "                               last_valid_x_slice = last_valid_x_slice, plot_results=True, subcount=1 )"
   ]
  },
  {
   "cell_type": "code",
   "execution_count": null,
   "id": "acac19ad-c435-4540-b517-f3c95677e3b0",
   "metadata": {},
   "outputs": [],
   "source": [
    "#save a backup of the refined dataset\n",
    "\n",
    "with open(result_folder+r\"\\data_refined.pickle\", \"wb\") as f:\n",
    "    pickle.dump(data_refined, f)\n",
    "\n",
    "print(\"mask_edge:\", mask_edge)"
   ]
  },
  {
   "cell_type": "markdown",
   "id": "02345e21",
   "metadata": {},
   "source": [
    "### 2. Reconstruction"
   ]
  },
  {
   "cell_type": "code",
   "execution_count": 49,
   "id": "e48a5258",
   "metadata": {},
   "outputs": [],
   "source": [
    "#load the backup\n",
    "\n",
    "with open(result_folder+r\"\\data_refined.pickle\", \"rb\") as f:\n",
    "    data_refined=pickle.load(f)\n",
    "    mask_edge=1"
   ]
  },
  {
   "cell_type": "code",
   "execution_count": 50,
   "id": "59856ad1-2c39-494a-b067-10c64f68b35f",
   "metadata": {},
   "outputs": [
    {
     "name": "stdout",
     "output_type": "stream",
     "text": [
      "number of free variables: 44970\n"
     ]
    }
   ],
   "source": [
    "# To obtain the true minimum, the Conjugate-gradient solver needs to run for as many iterations as there are free variables. \n",
    "# Usually convergence is achieved much faster.\n",
    "print(\"number of free variables:\",len(data_refined.mask[data_refined.mask])*3)"
   ]
  },
  {
   "cell_type": "markdown",
   "id": "e9cd8855-4d88-4838-941c-25540eaffb5d",
   "metadata": {},
   "source": [
    "#### Perform the reconstruction by regularising the variance and the Heisenberg exchange energy"
   ]
  },
  {
   "cell_type": "code",
   "execution_count": 51,
   "id": "3e444ff6",
   "metadata": {},
   "outputs": [
    {
     "name": "stdout",
     "output_type": "stream",
     "text": [
      "Regularising amplitude variance and exchange energy\n"
     ]
    },
    {
     "data": {
      "application/vnd.jupyter.widget-view+json": {
       "model_id": "",
       "version_major": 2,
       "version_minor": 0
      },
      "text/plain": [
       "CG:   0%|          | 0/5000 [00:00<?, ?it/s]"
      ]
     },
     "metadata": {},
     "output_type": "display_data"
    },
    {
     "name": "stdout",
     "output_type": "stream",
     "text": [
      "Finished run with cost 17993.23691508134\n",
      "calculating 5000 iterations took 12.2 minutes\n"
     ]
    }
   ],
   "source": [
    "# Do the reconstruction\n",
    "iterations=5000\n",
    "regulariser_strengths = (1e-1,1e0) # (variance coeff, exchange energy coeff)\n",
    "\n",
    "data=data_refined\n",
    "mag_guess = None\n",
    "#x-axis edge of boundary charges\n",
    "regulariser_mask=data.mask.copy()\n",
    "regulariser_mask[:,:,:mask_edge]=False #do not regularise the amplitude of the boundary charges\n",
    "\n",
    "\n",
    "result_note=f\"{iterations} iterations\"\n",
    "cost_values=[]\n",
    "\n",
    "start_time = timer()\n",
    "\n",
    "magdata_rec, cost_function = pre.reconstruct_from_phasemaps(data, lam=regulariser_strengths, \n",
    "                                    max_iter=iterations, ramp_order=1, verbose=True, plot_input=False, plot_results=False, \n",
    "                                   regulariser_type='amplitude',mag_0=mag_guess, reg_mask=regulariser_mask)\n",
    "pre.append_valid_costfunction_values(cost_values, cost_function)\n",
    "print(f\"Finished run with cost {cost_function.chisq}\")\n",
    "    \n",
    "end_time = timer()\n",
    "execution_time = end_time - start_time #seconds\n",
    "print(f\"calculating {iterations} iterations took {execution_time/60:.1f} minutes\")\n",
    "\n",
    "    \n",
    "result = (magdata_rec, cost_function, cost_values, result_note)\n",
    "results[regulariser_strengths] = result"
   ]
  },
  {
   "cell_type": "code",
   "execution_count": null,
   "id": "d35e9d60-2fe9-482c-bcf0-c690a327f05e",
   "metadata": {},
   "outputs": [],
   "source": [
    "# save result for later analysis\n",
    "with open(result_folder+r\"\\reconstruction_results.pickle\",\"wb\") as f:\n",
    "    pickle.dump(results, f)"
   ]
  },
  {
   "cell_type": "markdown",
   "id": "5dc1ec58-0525-4863-8a91-d51c0a005584",
   "metadata": {},
   "source": [
    "### 3. Inspect the reconstruction"
   ]
  },
  {
   "cell_type": "code",
   "execution_count": 16,
   "id": "de775461-2db5-4254-b543-93e099b2bd82",
   "metadata": {},
   "outputs": [],
   "source": [
    "# load previous results\n",
    "with open(result_folder+r\"\\reconstruction_results.pickle\",\"rb\") as f:\n",
    "    results=pickle.load(f)\n",
    "    (magdata_rec, cost_function, cost_values, result_note)=results[(1e-1,1e0)]\n",
    "with open(result_folder+r\"\\data_refined.pickle\", \"rb\") as f:\n",
    "    data_refined=pickle.load(f)\n",
    "    mask_edge=1\n",
    "    "
   ]
  },
  {
   "cell_type": "markdown",
   "id": "f6cb3c55-39c1-40cf-a292-a93d9f498de5",
   "metadata": {},
   "source": [
    "#### Inspect the magnetisation magnitude, direction, and max spin angle."
   ]
  },
  {
   "cell_type": "code",
   "execution_count": 52,
   "id": "2153e356",
   "metadata": {},
   "outputs": [
    {
     "name": "stdout",
     "output_type": "stream",
     "text": [
      "Max spin angle: 177.14386169182103\n",
      "\n",
      "N = 1 cost value pairs.\n",
      "model, regulariser, sum\n",
      "1.75897e+04; 4.03503e+02; 1.79932e+04\n",
      "\n"
     ]
    },
    {
     "data": {
      "text/plain": [
       "<matplotlib.colorbar.Colorbar at 0x1673d4c43d0>"
      ]
     },
     "execution_count": 52,
     "metadata": {},
     "output_type": "execute_result"
    }
   ],
   "source": [
    "angle_field = pre.inspect_magdata(magdata_rec[:,:,:,mask_edge:], plot_angles=True, ar_dens=2)\n",
    "pre.inspect_cost_values(cost_values, print_chis=True)\n",
    "plt.matshow(np.max(angle_field.field,axis=0), vmax=90, vmin=0, origin='lower')\n",
    "plt.title(\"maximum spin angle\")\n",
    "plt.colorbar()"
   ]
  },
  {
   "cell_type": "markdown",
   "id": "c6ab859d-8668-4ee2-8ca4-1c35d4cc1ba1",
   "metadata": {},
   "source": [
    "#### Inspect difference between simulated and measured phase maps"
   ]
  },
  {
   "cell_type": "code",
   "execution_count": 17,
   "id": "c733afad",
   "metadata": {},
   "outputs": [
    {
     "name": "stderr",
     "output_type": "stream",
     "text": [
      "D:\\Programmes\\Git\\empyre-patched\\empyre\\pyramid\\phasemap.py:698: RuntimeWarning: More than 20 figures have been opened. Figures created through the pyplot interface (`matplotlib.pyplot.figure`) are retained until explicitly closed and may consume too much memory. (To control this warning, see the rcParam `figure.max_open_warning`). Consider using `matplotlib.pyplot.close()`.\n",
      "  fig = plt.figure(figsize=figsize)\n"
     ]
    }
   ],
   "source": [
    "t=pre.simulate_reconstruction(data_refined, magdata_rec, cost_function)"
   ]
  },
  {
   "cell_type": "markdown",
   "id": "28702b36",
   "metadata": {},
   "source": [
    "### 4.Diagnostics"
   ]
  },
  {
   "cell_type": "markdown",
   "id": "aa6b14df-97a4-465b-bf6b-cc1a1a803e46",
   "metadata": {},
   "source": [
    "### 4.1 Histogram of magnetisation magnitudes"
   ]
  },
  {
   "cell_type": "code",
   "execution_count": 43,
   "id": "59469bc6-3f30-4d1d-8d01-bb22f6512585",
   "metadata": {},
   "outputs": [
    {
     "name": "stdout",
     "output_type": "stream",
     "text": [
      "bin_size: 0.02 T\n",
      "mean and std: 0.6144624374212183 0.24518120264436266\n"
     ]
    }
   ],
   "source": [
    "t=pd.histogram_magnetisation (magdata_rec[:,:,:,mask_edge:], [0,2], save_img=False, fit_gauss=False)"
   ]
  },
  {
   "cell_type": "markdown",
   "id": "8d78e651-9031-4f1e-af9a-7bf140c5ddf1",
   "metadata": {},
   "source": [
    "### 4.2 Optimal estimation diagnostics"
   ]
  },
  {
   "cell_type": "markdown",
   "id": "58a3ecda-c337-4945-8811-61dc973d166a",
   "metadata": {},
   "source": [
    "#### First, select voxel to evaluate"
   ]
  },
  {
   "cell_type": "code",
   "execution_count": 25,
   "id": "0c8ecfee-b184-449d-bb64-5c02caba11c3",
   "metadata": {},
   "outputs": [],
   "source": [
    "#select the voxel to evaluate\n",
    "voxel_position = pd.find_voxel_coords(data_refined.mask, position_zyx=[None,50,45], mask_edge=mask_edge, plot_results=True)"
   ]
  },
  {
   "cell_type": "markdown",
   "id": "df3d0121-20e0-4dda-b70d-ddaaef2e715e",
   "metadata": {},
   "source": [
    "#### Perform an estimation of the hessian matrix to be used in optimal estimation diagnostics"
   ]
  },
  {
   "cell_type": "code",
   "execution_count": 26,
   "id": "67402066",
   "metadata": {},
   "outputs": [
    {
     "name": "stdout",
     "output_type": "stream",
     "text": [
      "finished calculating for x component\n",
      "finished calculating for y component\n",
      "finished calculating for z component\n",
      "\n",
      "Voxel position: (7, 50, 45)\n",
      "Magnetisation vector is:\n",
      "        (M_x = 1.16e-01 +/- 3.64e-02 T,\n",
      "         M_y = 5.48e-01 +/- 1.32e-01 T,\n",
      "         M_z = -3.72e-03 +/- -7.30e-04 T)\n",
      "Amplitude: 0.560 +/- 0.137 T\n",
      "Spatial resolution (dx, dy, dz): 3.1, 6.2, 5.3 pixels\n",
      "Pixel spacing: 10.27 nm\n"
     ]
    }
   ],
   "source": [
    "mag_rec = magdata_rec\n",
    "cost_f = cost_function\n",
    "data = data_refined\n",
    "\n",
    "diagnostic_results = pd.bayesian_diagnostics(data, mag_rec, cost_f, voxel_position_zyx=voxel_position, \n",
    "                       verbose=True, max_iter=200, plot_results=True)\n"
   ]
  },
  {
   "cell_type": "code",
   "execution_count": 38,
   "id": "c2a9c11f-697a-4b68-baec-780b6beae0be",
   "metadata": {},
   "outputs": [
    {
     "data": {
      "text/plain": [
       "(0.1366004960793148,\n",
       " array([3.05423261, 6.22208682, 5.32201192]),\n",
       " (<pyramid.diagnostics.Diagnostics at 0x1671fffef40>,\n",
       "  <pyramid.diagnostics.Diagnostics at 0x16718b38e20>,\n",
       "  <pyramid.diagnostics.Diagnostics at 0x1671fff3bb0>))"
      ]
     },
     "execution_count": 38,
     "metadata": {},
     "output_type": "execute_result"
    }
   ],
   "source": [
    "diagnostic_results"
   ]
  },
  {
   "cell_type": "markdown",
   "id": "69d445c4-3272-4e29-a827-2824ffb862f1",
   "metadata": {},
   "source": [
    "#### Average Full-Width-Half-Maximum of the 3D point spread function introduced by the reconstruction"
   ]
  },
  {
   "cell_type": "code",
   "execution_count": 32,
   "id": "30a6e4cc",
   "metadata": {},
   "outputs": [
    {
     "name": "stdout",
     "output_type": "stream",
     "text": [
      "spatial resolution FWHM, nm\n"
     ]
    },
    {
     "data": {
      "text/plain": [
       "51.79399600313342"
      ]
     },
     "execution_count": 32,
     "metadata": {},
     "output_type": "execute_result"
    }
   ],
   "source": [
    "# get average FWHM in nm\n",
    "print(\"spatial resolution FWHM, nm\")\n",
    "np.sqrt(np.average(diagnostic_results[1]**2))*data_refined.a"
   ]
  },
  {
   "cell_type": "markdown",
   "id": "93e572e2-9fda-45da-9c03-90566676efb1",
   "metadata": {},
   "source": [
    "#### Average saturation magnetisation *mu0"
   ]
  },
  {
   "cell_type": "code",
   "execution_count": 33,
   "id": "92bfa293",
   "metadata": {},
   "outputs": [
    {
     "name": "stdout",
     "output_type": "stream",
     "text": [
      "average magnetisation, T\n"
     ]
    },
    {
     "data": {
      "text/plain": [
       "0.6289614735057029"
      ]
     },
     "execution_count": 33,
     "metadata": {},
     "output_type": "execute_result"
    }
   ],
   "source": [
    "# average magnetisation *mu0\n",
    "mag_avg=np.mean(magdata_rec.field_amp[magdata_rec.get_mask()])\n",
    "print(\"average magnetisation, T\")\n",
    "mag_avg"
   ]
  },
  {
   "cell_type": "markdown",
   "id": "fb2db999-dd83-4808-98c4-80eaeaf2a4f5",
   "metadata": {},
   "source": [
    "#### Magnetisation magnitude error due to image missalignment"
   ]
  },
  {
   "cell_type": "code",
   "execution_count": 35,
   "id": "446c2528",
   "metadata": {},
   "outputs": [
    {
     "name": "stdout",
     "output_type": "stream",
     "text": [
      "relative alignment error, %,  2.4131578064874946\n"
     ]
    },
    {
     "data": {
      "text/plain": [
       "0.015177832897701644"
      ]
     },
     "execution_count": 35,
     "metadata": {},
     "output_type": "execute_result"
    }
   ],
   "source": [
    "# evaluate perturbation of forcing one phase image to be perfect\n",
    "error_sum=diagnostic_results[0]\n",
    "err_alignment = error_sum/data_refined.count\n",
    "print(\"relative alignment error, %, \", err_alignment/mag_avg*100)\n",
    "err_alignment"
   ]
  },
  {
   "cell_type": "markdown",
   "id": "5659bd47-0346-4456-b199-c057345cc592",
   "metadata": {},
   "source": [
    "#### Magnetisation magnitude error due to measurement noise"
   ]
  },
  {
   "cell_type": "code",
   "execution_count": 40,
   "id": "a0f9e514-1267-4dcc-8281-a279df251ab4",
   "metadata": {},
   "outputs": [
    {
     "name": "stdout",
     "output_type": "stream",
     "text": [
      "relative phase measurement error, %,  0.7937158413892129\n"
     ]
    },
    {
     "data": {
      "text/plain": [
       "0.004992166851449781"
      ]
     },
     "execution_count": 40,
     "metadata": {},
     "output_type": "execute_result"
    }
   ],
   "source": [
    "# estimage perturbation on reconstruction\n",
    "std=0.074 #standard deviation of phase image noise\n",
    "\n",
    "diag_x=diagnostic_results[2][0]\n",
    "G=diag_x.gain_row\n",
    "err_meas = np.sqrt(np.dot(G,G))*std\n",
    "print(\"relative phase measurement error, %, \", err_meas/mag_avg*100)\n",
    "err_meas"
   ]
  },
  {
   "cell_type": "markdown",
   "id": "a1a2b655-c3a8-40d3-ba9b-3ff5b628e405",
   "metadata": {},
   "source": [
    "#### Total precision of magnitude measurement"
   ]
  },
  {
   "cell_type": "code",
   "execution_count": 44,
   "id": "c99fe7b0-6ac1-4f18-bb75-7dd9c004f014",
   "metadata": {},
   "outputs": [
    {
     "name": "stdout",
     "output_type": "stream",
     "text": [
      "relative phase perturbation error, %,  2.540337661785087\n"
     ]
    },
    {
     "data": {
      "text/plain": [
       "0.0159777451895838"
      ]
     },
     "execution_count": 44,
     "metadata": {},
     "output_type": "execute_result"
    }
   ],
   "source": [
    "# total magnitude error in T from phase perturbations\n",
    "err_pert = np.hypot(err_alignment,err_meas)\n",
    "print(\"relative phase perturbation error, %, \", err_pert/mag_avg*100)\n",
    "err_pert"
   ]
  },
  {
   "cell_type": "markdown",
   "id": "e3a268a2",
   "metadata": {},
   "source": [
    "### 4.3 Fourier shell correlation"
   ]
  },
  {
   "cell_type": "code",
   "execution_count": 53,
   "id": "bfe7f06d",
   "metadata": {},
   "outputs": [],
   "source": [
    "#FSC\n",
    "#do for all sub-components:\n",
    "mag_rec = magdata_rec[:,:,:,mask_edge:]\n",
    "\n",
    "field_array=mag_rec.field.copy()\n",
    "field_array[:,:,:,:mask_edge]=0\n",
    "\n",
    "FSCs = []\n",
    "resolutions=[]\n",
    "for i in range(3):\n",
    "    array_3d=field_array[i,:,:,:]\n",
    "    ffts = pd.fsc_split_array(array_3d)\n",
    "    freq, FSC, ns_effective = pd.fsc_calculate_correlation(array_3d, *ffts, scale=2, plot_results=False)\n",
    "    FSCs.append(FSC)"
   ]
  },
  {
   "cell_type": "code",
   "execution_count": 54,
   "id": "3dfbbc61",
   "metadata": {},
   "outputs": [],
   "source": [
    "sne=np.sqrt(ns_effective)\n",
    "sigma_3 = 3/(sne+2)\n",
    "hbit=((0.2071+1.9102/sne)/(1.2071+0.9102/sne)) # half-bit criterion\n",
    "\n",
    "freq_p=2*np.array(freq) #for plotting convert to f/nyquist\n",
    "\n",
    "def find_intersection(FSC, hbit, freq_p):\n",
    "    for i in range(len(FSC))[10:]:\n",
    "        fi=FSC[i]\n",
    "        thi=[hbit[i]]\n",
    "        if thi>fi:\n",
    "            resolution = tick_function([freq_p[i-1]])[0]\n",
    "            return(resolution)\n",
    "            break\n",
    "            \n",
    "def tick_function(f):\n",
    "    freqs=[]\n",
    "    for freq in f:\n",
    "        if freq<=1e-10:\n",
    "            freqs.append(None)\n",
    "        else:\n",
    "            f=1/freq*mag_rec.a\n",
    "            freqs.append(\"%.1f\"%f)\n",
    "    return (freqs) #in nm\n",
    "\n",
    "plt.figure()\n",
    "ax1 = plt.gca()\n",
    "ax2 = ax1.twiny()\n",
    "\n",
    "s='xyz'\n",
    "fmts=[\"r.-\",\"g.-\",\"b.-\"]\n",
    "for i,FSC in enumerate(FSCs):\n",
    "    resolution = find_intersection(FSC, hbit, freq_p)\n",
    "    \n",
    "    ax1.plot(freq_p, FSC, fmts[i], label=f\"$m_{s[i]}$, resolution $= {resolution}$ nm\")\n",
    "\n",
    "ax1.plot(freq_p, hbit, 'k-', label=\"1/2 bit threshold\")\n",
    "#ax1.plot(freq_p, sigma_3, 'k-.', label=\"3 sigma\")\n",
    "ax1.set_xlabel(\"Spatial frequency / Nyquist\")\n",
    "ax1.legend(loc='lower left')\n",
    "ax1.set_ylabel(\"Correlation coefficient\")\n",
    "\n",
    "\n",
    "xtickslocs = ax1.get_xticks()[1:-1]\n",
    "ax2.set_xlim(ax1.get_xlim())\n",
    "ax2.set_xticks(xtickslocs)\n",
    "ax2.set_xticklabels(tick_function(xtickslocs))\n",
    "ax2.set_xlabel(\"Resolution, nm\")\n",
    "plt.tight_layout()\n",
    "# plt.savefig(\"FSC.png\",dpi=200)\n"
   ]
  },
  {
   "cell_type": "markdown",
   "id": "01c9e4f0-11b7-4e4f-8de5-6f1aa4907c24",
   "metadata": {},
   "source": [
    "#### End of notebook. We now have a 3D magnetisation reconstruction and the error analysis."
   ]
  }
 ],
 "metadata": {
  "kernelspec": {
   "display_name": "Python 3 (ipykernel)",
   "language": "python",
   "name": "python3"
  },
  "language_info": {
   "codemirror_mode": {
    "name": "ipython",
    "version": 3
   },
   "file_extension": ".py",
   "mimetype": "text/x-python",
   "name": "python",
   "nbconvert_exporter": "python",
   "pygments_lexer": "ipython3",
   "version": "3.9.19"
  }
 },
 "nbformat": 4,
 "nbformat_minor": 5
}
