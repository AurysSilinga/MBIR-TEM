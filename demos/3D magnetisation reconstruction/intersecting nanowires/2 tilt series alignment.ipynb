{
 "cells": [
  {
   "cell_type": "code",
   "execution_count": 1,
   "id": "c6eb8faf",
   "metadata": {},
   "outputs": [],
   "source": [
    "### TODO\n",
    "#check if alignment works if tip is vertically at the top\n",
    "\n",
    "#what happends if phasemaps not even?\n",
    "\n",
    "#check all cells have user-editable inputs at the top"
   ]
  },
  {
   "cell_type": "markdown",
   "id": "0da51d07",
   "metadata": {},
   "source": [
    "## Notebook for aligning projections\n",
    "\n",
    "### 0. Global parameter definitions\n",
    "### 1. Measuring miss-tilt and finding rotation axis\n",
    "### 2. Creating 3-D mask"
   ]
  },
  {
   "cell_type": "code",
   "execution_count": 2,
   "id": "59e057c1",
   "metadata": {},
   "outputs": [],
   "source": [
    "%matplotlib qt"
   ]
  },
  {
   "cell_type": "code",
   "execution_count": 3,
   "id": "6321a79d",
   "metadata": {},
   "outputs": [],
   "source": [
    "import matplotlib.pyplot as plt\n",
    "import numpy as np\n",
    "from PIL import Image\n",
    "import pickle\n",
    "\n",
    "import skimage.filters as skfl"
   ]
  },
  {
   "cell_type": "code",
   "execution_count": 4,
   "id": "30de8e0b",
   "metadata": {},
   "outputs": [],
   "source": [
    "import fpd\n",
    "import hyperspy.api as hs"
   ]
  },
  {
   "cell_type": "code",
   "execution_count": 5,
   "id": "dc83960f",
   "metadata": {},
   "outputs": [
    {
     "data": {
      "text/plain": [
       "<module 'pyramid' from 'D:\\\\Programmes\\\\Git\\\\empyre-patched\\\\empyre\\\\pyramid\\\\__init__.py'>"
      ]
     },
     "execution_count": 5,
     "metadata": {},
     "output_type": "execute_result"
    }
   ],
   "source": [
    "#load editable pyramid version\n",
    "import sys\n",
    "import os\n",
    "pyramid_dev_version_path=os.path.abspath(r\"D:\\Programmes\\Git\\empyre-patched\\empyre\")\n",
    "sys.path.append(pyramid_dev_version_path)\n",
    "#print(sys.path)\n",
    "import pyramid as pr\n",
    "pr"
   ]
  },
  {
   "cell_type": "code",
   "execution_count": 6,
   "id": "18e0915c",
   "metadata": {},
   "outputs": [],
   "source": [
    "#Code by A.S.\n",
    "import pyramidas.alignment as pa\n",
    "import pyramidas.util as pu\n",
    "import pyramidas.reconstruction as pre"
   ]
  },
  {
   "cell_type": "markdown",
   "id": "8810001e",
   "metadata": {},
   "source": [
    "### 0. Global parameter definitions"
   ]
  },
  {
   "cell_type": "code",
   "execution_count": 7,
   "id": "efc65a48",
   "metadata": {},
   "outputs": [],
   "source": [
    "#file paths\n",
    "\n",
    "folders = ['+0',\n",
    " '+20',\n",
    " '+30',\n",
    " '-10',\n",
    " '-20',\n",
    " '-30',\n",
    " '-40',\n",
    " '-50',\n",
    " '-60']\n",
    "\n",
    "# file names for single (phasemap + projector + mask) datasets\n",
    "f_name=\"data.pickle\""
   ]
  },
  {
   "cell_type": "code",
   "execution_count": 8,
   "id": "2499f3fd",
   "metadata": {},
   "outputs": [],
   "source": [
    "#load all the phase images\n",
    "no_projections=len(folders)\n",
    "datas=[None]*no_projections\n",
    "\n",
    "for i in range(len(datas)):\n",
    "    data_path=folders[i]+'\\\\'+f_name\n",
    "    with open(data_path, 'rb') as f:\n",
    "        datas[i]=pickle.load(f)"
   ]
  },
  {
   "cell_type": "code",
   "execution_count": 9,
   "id": "381116ff",
   "metadata": {},
   "outputs": [
    {
     "name": "stdout",
     "output_type": "stream",
     "text": [
      "phasemap 0 shape (120, 116)\n",
      "phasemap 1 shape (120, 116)\n",
      "phasemap 2 shape (120, 116)\n",
      "phasemap 3 shape (120, 116)\n",
      "phasemap 4 shape (120, 116)\n",
      "phasemap 5 shape (120, 116)\n",
      "phasemap 6 shape (120, 116)\n",
      "phasemap 7 shape (120, 116)\n",
      "phasemap 8 shape (120, 116)\n",
      "Pixel spacing is 10.249 +/- 5.99e-07\n"
     ]
    }
   ],
   "source": [
    "#plot masks and phasemaps\n",
    "masks=[]\n",
    "phasemaps_raw=[]\n",
    "for i in range(len(datas)):\n",
    "    datas[i].plot_phasemaps()\n",
    "    phasemap=datas[i].phasemaps[0]\n",
    "    phasemaps_raw.append(phasemap)\n",
    "    print(f\"phasemap {i} shape\", phasemap.dim_uv)\n",
    "    \n",
    "phasemaps=pa.pad_equalise_tilt_series(phasemaps_raw)\n",
    "    \n",
    "for pm in phasemaps:\n",
    "    mask=pm.mask\n",
    "    masks.append(mask)"
   ]
  },
  {
   "cell_type": "code",
   "execution_count": 20,
   "id": "c9d2a2cf",
   "metadata": {},
   "outputs": [
    {
     "name": "stdout",
     "output_type": "stream",
     "text": [
      "['-60.z0', '-50.z0', '-40.z0', '-30.z0', '-20.z0', '-10.z0', '+0.z0', '+20.z0', '+30.z0']\n"
     ]
    }
   ],
   "source": [
    "#### for plotting later\n",
    "\n",
    "ms=tuple(sorted(zip(folders,masks), key=lambda x: int(x[0])))\n",
    "ms\n",
    "names=[]\n",
    "folder=\".//masks 0//\"\n",
    "for el in ms:\n",
    "    m=el[1].astype(int)*2\n",
    "    m0=np.ones(m.shape)*1\n",
    "    bw=3\n",
    "    m0[bw:-bw,bw:-bw]=m[bw:-bw,bw:-bw] # add border\n",
    "    m=(m0*255/np.max(m0)).astype('uint8')\n",
    "    name=el[0]+\".z0\"\n",
    "    names.append(str(name))\n",
    "    plt.matshow(m)\n",
    "    img=Image.fromarray(m)\n",
    "    img.save(folder+name+\".png\")\n",
    "print(names)"
   ]
  },
  {
   "cell_type": "markdown",
   "id": "e3f73fde",
   "metadata": {},
   "source": [
    "### 1. Measuring miss-tilt and finding rotation axis"
   ]
  },
  {
   "cell_type": "code",
   "execution_count": 10,
   "id": "b11daa2f",
   "metadata": {},
   "outputs": [],
   "source": [
    "#Before measuring the projection angles, shift all phase images such that the sample is in approximately the same position.\n",
    "\n",
    "# method is \"phase_correlation\" or \"centre_of_mass\"\n",
    "method=\"phase_correlation\"\n",
    "# index of the reference image all others should be compared to and shifted to match\n",
    "test_image_index=0\n",
    "\n",
    "\n",
    "shifts = pa.find_image_shifts(masks, test_image_index=test_image_index, method=method)\n",
    "phasemaps_similar = pa.pad_translate_tilt_series(phasemaps, shifts)\n",
    "projectors=[data.projectors[0] for data in datas]"
   ]
  },
  {
   "cell_type": "code",
   "execution_count": 11,
   "id": "7df9b323",
   "metadata": {},
   "outputs": [],
   "source": [
    "#fit a line to each mask and determine wire angle. Also extract x-tilt values from projectors.\n",
    "\n",
    "crop_right=85\n",
    "crop_left=30\n",
    "crop_bottom=80\n",
    "crop_top=0\n",
    "\n",
    "# crop_right=80\n",
    "# crop_left=38\n",
    "# crop_bottom=0\n",
    "# crop_top=60\n",
    "\n",
    "\n",
    "tana, xtilts = pa.measure_wire_orientations(phasemaps_similar, projectors, crop_right=crop_right, crop_left=crop_left, \n",
    "                                         crop_bottom=crop_bottom, crop_top=crop_top, plot_results=True, verbose=False)"
   ]
  },
  {
   "cell_type": "code",
   "execution_count": 119,
   "id": "1b0210a3",
   "metadata": {},
   "outputs": [
    {
     "name": "stdout",
     "output_type": "stream",
     "text": [
      "root theta: 9.51 deg +6.399 / -6.399\n",
      "root x_tilt: 6.83 deg +1.324 / -1.324\n",
      "distance from 0 error: 0.004591546880901653\n",
      "     fun: 0.004591546880901653\n",
      "     jac: array([ 5.89805982e-09, -1.41379963e-08])\n",
      " message: 'Converged (|f_n-f_(n-1)| ~= 0)'\n",
      "    nfev: 39\n",
      "     nit: 10\n",
      "  status: 1\n",
      " success: True\n",
      "       x: array([0.16590235, 0.11927609])\n"
     ]
    }
   ],
   "source": [
    "# define an error function that goes to 0 if the correct axis of rotation is identified \n",
    "# Method is true for an arbitrarily orientated volume of revolution (e.g. cylinders and cones).\n",
    "#methods = 'L-BFGS-B' or 'TNC'\n",
    "# lowest 'distance from 0' is best\n",
    "\n",
    "tilt_axis_direction_guess=np.radians(15)\n",
    "miss_tilt_guess=np.radians(0)\n",
    "\n",
    "sol, fun = pa.minimise_total_error(tana, xtilts, x0 = [tilt_axis_direction_guess, miss_tilt_guess], method='TNC', \n",
    "                                   error_window_width=np.radians(3)) \n",
    "th0, p0 = sol.x\n",
    "#print(sol)"
   ]
  },
  {
   "cell_type": "code",
   "execution_count": 86,
   "id": "ce83f997",
   "metadata": {},
   "outputs": [],
   "source": [
    "#inspect the error function\n",
    "pa.plot_3D_surface(fun)\n",
    "\n",
    "#zoom in onto the solution in the error function\n",
    "range_rad=np.radians(3)\n",
    "\n",
    "bracket = [[-range_rad+th0, range_rad+th0],[-range_rad+p0, range_rad+p0]]\n",
    "pa.plot_3D_surface(fun, bracket=bracket, title=\"Error function (zoomed in)\")"
   ]
  },
  {
   "cell_type": "code",
   "execution_count": 120,
   "id": "66862815",
   "metadata": {},
   "outputs": [],
   "source": [
    "#refine tilt and direction measurements\n",
    "#rotates the images to have tilt axis be horizontal and accounts for miss-tilt\n",
    "\n",
    "crop_right=77\n",
    "crop_left=38\n",
    "crop_bottom=80\n",
    "crop_top=0\n",
    "\n",
    "# crop_right=75\n",
    "# crop_left=28\n",
    "# crop_bottom=0\n",
    "# crop_top=60\n",
    "\n",
    "tana_ref, xtilts_ref = pa.measure_wire_orientations(phasemaps_similar, projectors, theta=th0, xtilt0=p0, \n",
    "                                                    crop_right=crop_right, crop_left=crop_left, \n",
    "                                         crop_bottom=crop_bottom, crop_top=crop_top, plot_results=True, verbose=False)\n"
   ]
  },
  {
   "cell_type": "code",
   "execution_count": 124,
   "id": "4384738f",
   "metadata": {},
   "outputs": [
    {
     "name": "stdout",
     "output_type": "stream",
     "text": [
      "\n",
      "rotating phasemaps\n",
      "\n",
      "centring phasemaps\n",
      "\n",
      "x-shifting phasemaps\n",
      "shifts (index, (dy,dx)): [(0, (0, -3)), (1, (0, 4)), (2, (0, 5)), (3, (0, 0)), (4, (0, -1)), (5, (0, 1)), (6, (0, -3)), (7, (0, -1)), (8, (0, -4))]\n",
      "\n",
      "trimming some empty space from phasemaps\n",
      "\n",
      "aligning phasemap projections\n",
      "0 tilt mask is calculated from mask 3\n",
      "Starting projector calculation for tilt 6.83 deg\n",
      "Starting projector calculation for tilt 26.83 deg\n",
      "Starting projector calculation for tilt 36.83 deg\n",
      "Starting projector calculation for tilt -3.17 deg\n",
      "Starting projector calculation for tilt -13.17 deg\n",
      "Starting projector calculation for tilt -23.17 deg\n",
      "Starting projector calculation for tilt -33.17 deg\n",
      "Starting projector calculation for tilt -43.17 deg\n",
      "Starting projector calculation for tilt -53.17 deg\n",
      "projector calculations finished\n",
      "\n",
      "Mask 0 Y-shift = 2, Wire direction error = -0.18 deg\n",
      "Mask 1 Y-shift = 0, Wire direction error = -0.14 deg\n",
      "Mask 2 Y-shift = 4, Wire direction error = 0.07 deg\n",
      "Mask 3 Y-shift = 0, Wire direction error = 0.00 deg\n",
      "Mask 4 Y-shift = 0, Wire direction error = -0.50 deg\n",
      "Mask 5 Y-shift = 2, Wire direction error = -0.39 deg\n"
     ]
    },
    {
     "name": "stderr",
     "output_type": "stream",
     "text": [
      "D:\\Programmes\\Git\\empyre-patched\\empyre\\pyramidas\\alignment.py:368: RuntimeWarning: More than 20 figures have been opened. Figures created through the pyplot interface (`matplotlib.pyplot.figure`) are retained until explicitly closed and may consume too much memory. (To control this warning, see the rcParam `figure.max_open_warning`).\n",
      "  plt.figure()\n"
     ]
    },
    {
     "name": "stdout",
     "output_type": "stream",
     "text": [
      "Mask 6 Y-shift = 5, Wire direction error = 0.14 deg\n"
     ]
    },
    {
     "name": "stderr",
     "output_type": "stream",
     "text": [
      "D:\\Programmes\\Git\\empyre-patched\\empyre\\pyramidas\\alignment.py:1087: RuntimeWarning: More than 20 figures have been opened. Figures created through the pyplot interface (`matplotlib.pyplot.figure`) are retained until explicitly closed and may consume too much memory. (To control this warning, see the rcParam `figure.max_open_warning`).\n",
      "  plt.figure()\n",
      "D:\\Programmes\\Git\\empyre-patched\\empyre\\pyramidas\\alignment.py:368: RuntimeWarning: More than 20 figures have been opened. Figures created through the pyplot interface (`matplotlib.pyplot.figure`) are retained until explicitly closed and may consume too much memory. (To control this warning, see the rcParam `figure.max_open_warning`).\n",
      "  plt.figure()\n",
      "D:\\Programmes\\Git\\empyre-patched\\empyre\\pyramidas\\alignment.py:368: RuntimeWarning: More than 20 figures have been opened. Figures created through the pyplot interface (`matplotlib.pyplot.figure`) are retained until explicitly closed and may consume too much memory. (To control this warning, see the rcParam `figure.max_open_warning`).\n",
      "  plt.figure()\n"
     ]
    },
    {
     "name": "stdout",
     "output_type": "stream",
     "text": [
      "Mask 7 Y-shift = 1, Wire direction error = -0.07 deg\n"
     ]
    },
    {
     "name": "stderr",
     "output_type": "stream",
     "text": [
      "D:\\Programmes\\Git\\empyre-patched\\empyre\\pyramidas\\alignment.py:1087: RuntimeWarning: More than 20 figures have been opened. Figures created through the pyplot interface (`matplotlib.pyplot.figure`) are retained until explicitly closed and may consume too much memory. (To control this warning, see the rcParam `figure.max_open_warning`).\n",
      "  plt.figure()\n",
      "D:\\Programmes\\Git\\empyre-patched\\empyre\\pyramidas\\alignment.py:368: RuntimeWarning: More than 20 figures have been opened. Figures created through the pyplot interface (`matplotlib.pyplot.figure`) are retained until explicitly closed and may consume too much memory. (To control this warning, see the rcParam `figure.max_open_warning`).\n",
      "  plt.figure()\n",
      "D:\\Programmes\\Git\\empyre-patched\\empyre\\pyramidas\\alignment.py:368: RuntimeWarning: More than 20 figures have been opened. Figures created through the pyplot interface (`matplotlib.pyplot.figure`) are retained until explicitly closed and may consume too much memory. (To control this warning, see the rcParam `figure.max_open_warning`).\n",
      "  plt.figure()\n"
     ]
    },
    {
     "name": "stdout",
     "output_type": "stream",
     "text": [
      "Mask 8 Y-shift = 2, Wire direction error = 0.06 deg\n"
     ]
    },
    {
     "name": "stderr",
     "output_type": "stream",
     "text": [
      "D:\\Programmes\\Git\\empyre-patched\\empyre\\pyramidas\\alignment.py:1087: RuntimeWarning: More than 20 figures have been opened. Figures created through the pyplot interface (`matplotlib.pyplot.figure`) are retained until explicitly closed and may consume too much memory. (To control this warning, see the rcParam `figure.max_open_warning`).\n",
      "  plt.figure()\n"
     ]
    },
    {
     "name": "stdout",
     "output_type": "stream",
     "text": [
      "Average wire direction alignment error: 0.234 deg\n",
      "\n",
      "trimming all unnecessary empty space from phasemaps\n",
      "\n",
      "finished alignments\n"
     ]
    }
   ],
   "source": [
    "#align the phasemaps\n",
    "tip_axis=1 # 0 -> y_axis, 1 -> x_axis #which direction should the wire tip stands out.\n",
    "use_high_end=True\n",
    "camera_rotation=0\n",
    "\n",
    "#adjust to select the wanted feature on the flattest lying image\n",
    "crop_right=70\n",
    "crop_left=35\n",
    "crop_bottom=60\n",
    "crop_top=0\n",
    "\n",
    "\n",
    "\n",
    "tilts = np.degrees(xtilts_ref)\n",
    "axis_rot = np.degrees(th0)\n",
    "phasemap_titles=[\"projection at %.1f deg\"%tilt for tilt in tilts]\n",
    "\n",
    "#rotate the phasemaps such that x-axis coresponds to tilt axis\n",
    "print(\"\\nrotating phasemaps\")\n",
    "phasemaps_rot=pa.rotate_phasemaps(phasemaps_similar, axis_rot, smooth_masks=True)\n",
    " \n",
    "\n",
    "#centre the phase images such that the confidence region centres coincide\n",
    "print(\"\\ncentring phasemaps\") \n",
    "phasemaps_centered = pa.centre_phasemaps(phasemaps_rot, padded=False)\n",
    "\n",
    "\n",
    "#measure translations of the needle tip along the x-axis and correct\n",
    "print(\"\\nx-shifting phasemaps\")\n",
    "phasemaps_translated = pa.align_wire_tips(phasemaps_centered, axis=tip_axis, use_high_end=use_high_end, padded=False, verbose=True)\n",
    "\n",
    "#trim unnecessary empty space\n",
    "print(\"\\ntrimming some empty space from phasemaps\")\n",
    "phasemaps_trim = pa.trim_empty_space(phasemaps_translated, equal_trim=True)\n",
    "\n",
    "#calculate projections of a starting image and shift all others to match.\n",
    "print(\"\\naligning phasemap projections\")\n",
    "phasemaps_corrected, reconstruction_dimensions = pa.align_wire_directions(phasemaps_trim, tilts, plot_fits=True, plot_aligned_masks=True, crop_right=crop_right,\n",
    "                        crop_left=crop_left, crop_top=crop_top, crop_bottom=crop_bottom,\n",
    "                        test_mask_index=None, use_round_projection=False, \n",
    "                        axis=1, z_ang=0, camera_rotation=camera_rotation, subcount=5, padded=False, verbose=True)\n",
    "\n",
    "\n",
    "#trim unnecessary empty space\n",
    "print(\"\\ntrimming all unnecessary empty space from phasemaps\")\n",
    "phasemaps_aligned = pa.trim_empty_space(phasemaps_corrected, equal_trim=False, verbose=False)\n",
    "\n",
    "print(\"\\nfinished alignments\")"
   ]
  },
  {
   "cell_type": "code",
   "execution_count": 128,
   "id": "9caffa6a",
   "metadata": {},
   "outputs": [],
   "source": [
    "plot_slice=slice(None)\n",
    "t=[pm.plot_phase() for pm in phasemaps_aligned[plot_slice]]"
   ]
  },
  {
   "cell_type": "code",
   "execution_count": 126,
   "id": "fbe7b07a",
   "metadata": {},
   "outputs": [
    {
     "data": {
      "text/plain": [
       "(45, 115, 95)"
      ]
     },
     "execution_count": 126,
     "metadata": {},
     "output_type": "execute_result"
    }
   ],
   "source": [
    "reconstruction_dimensions"
   ]
  },
  {
   "cell_type": "markdown",
   "id": "35957206",
   "metadata": {},
   "source": [
    "### 2. Creating 3-D mask"
   ]
  },
  {
   "cell_type": "code",
   "execution_count": 186,
   "id": "e4ca75ee",
   "metadata": {},
   "outputs": [
    {
     "data": {
      "text/plain": [
       "<matplotlib.image.AxesImage at 0x21c2e7cfc88>"
      ]
     },
     "execution_count": 186,
     "metadata": {},
     "output_type": "execute_result"
    }
   ],
   "source": [
    "##combine partial information behind the sample (should be done in alignment, this is just a hack)\n",
    "\n",
    "m=phasemaps_aligned[0].mask.copy()\n",
    "plt.matshow(m)\n",
    "free_space=phasemaps_aligned[0].confidence<1\n",
    "free_space[:,45:]=False\n",
    "free_space[:95,:]=False\n",
    "\n",
    "m[free_space]=True\n",
    "plt.matshow(m)\n"
   ]
  },
  {
   "cell_type": "code",
   "execution_count": 187,
   "id": "0290691f",
   "metadata": {},
   "outputs": [],
   "source": [
    "phasemaps_aligned[0].mask = m"
   ]
  },
  {
   "cell_type": "code",
   "execution_count": 188,
   "id": "3c06433c",
   "metadata": {},
   "outputs": [
    {
     "name": "stdout",
     "output_type": "stream",
     "text": [
      "Reconstruction voxel number: 273125\n",
      "Pixel size: 10.2491 nm\n",
      "3d reconstructions dimensions: (25, 115, 95)\n",
      "starting projector calculation\n",
      "1/1; projector calculation finished\n",
      "\n"
     ]
    },
    {
     "data": {
      "text/plain": [
       "<mayavi.modules.iso_surface.IsoSurface at 0x21c2a00d888>"
      ]
     },
     "execution_count": 188,
     "metadata": {},
     "output_type": "execute_result"
    }
   ],
   "source": [
    "#test if the 3-D mask is created correctly when using a small number of phasemaps\n",
    "\n",
    "selection=slice(0,1)\n",
    "z_rotation=0 #deg\n",
    "\n",
    "no_slices=len(phasemaps_aligned)\n",
    "z_rots=([z_rotation]*no_slices)\n",
    "camera_rots=([camera_rotation]*no_slices)\n",
    "pixel_spacing= phasemaps_aligned[0].a\n",
    "\n",
    "dimz, dimy, dimx = reconstruction_dimensions\n",
    "dim=(25,dimy,dimx)\n",
    "\n",
    "\n",
    "data_test=pa.make_projection_data(phasemaps_aligned[selection], z_rots[selection], tilts[selection], camera_rots[selection], \n",
    "                               pixel_spacing, dim=dim, plot_results=False)\n",
    "\n",
    "data_test.plot_mask(title=\"3d mask\")"
   ]
  },
  {
   "cell_type": "code",
   "execution_count": 189,
   "id": "434fc935",
   "metadata": {},
   "outputs": [
    {
     "name": "stdout",
     "output_type": "stream",
     "text": [
      "Reconstruction voxel number: 273125\n",
      "Pixel size: 10.2491 nm\n",
      "3d reconstructions dimensions: (25, 115, 95)\n",
      "starting projector calculation\n",
      "1/9; 2/9; 3/9; 4/9; 5/9; 6/9; 7/9; 8/9; 9/9; projector calculation finished\n",
      "\n"
     ]
    },
    {
     "data": {
      "text/plain": [
       "<mayavi.modules.iso_surface.IsoSurface at 0x21c2e7ac728>"
      ]
     },
     "execution_count": 189,
     "metadata": {},
     "output_type": "execute_result"
    }
   ],
   "source": [
    "#now calculate projectors for all phasemaps\n",
    "dim=(25,dimy,dimx)\n",
    "extra_rotation = 0 #deg\n",
    "\n",
    "x_tilts = tilts + extra_rotation\n",
    "\n",
    "data_series=pa.make_projection_data(phasemaps_aligned, z_rots, x_tilts, camera_rots, \n",
    "                               pixel_spacing, dim=dim, plot_results=False)\n",
    "\n",
    "data_series.plot_mask(title=\"combined and smoothed mask\")"
   ]
  },
  {
   "cell_type": "markdown",
   "id": "4354167f",
   "metadata": {},
   "source": [
    "#### edit mask manually in MS paint"
   ]
  },
  {
   "cell_type": "code",
   "execution_count": 37,
   "id": "0c458000",
   "metadata": {},
   "outputs": [
    {
     "name": "stdout",
     "output_type": "stream",
     "text": [
      "png shape (20, 101, 4)\n",
      "mask_projection.png\n"
     ]
    }
   ],
   "source": [
    "data_series.set_3d_mask(threshold=1)\n",
    "fname=pa.save_editable_mask(data_series.mask, axis=1)\n",
    "print(fname)"
   ]
  },
  {
   "cell_type": "code",
   "execution_count": 39,
   "id": "e3b38708",
   "metadata": {},
   "outputs": [
    {
     "name": "stdout",
     "output_type": "stream",
     "text": [
      ".png shape (20, 101, 4)\n",
      "mask shape (20, 103, 101)\n"
     ]
    },
    {
     "data": {
      "text/plain": [
       "<mayavi.modules.iso_surface.IsoSurface at 0x1b6409880a0>"
      ]
     },
     "execution_count": 39,
     "metadata": {},
     "output_type": "execute_result"
    }
   ],
   "source": [
    "data_series.mask = pa.load_png_mask(data_series.mask, \"mask_projection - Copy.png\", axis=1)\n",
    "data_series.plot_mask()"
   ]
  },
  {
   "cell_type": "markdown",
   "id": "111f04c9",
   "metadata": {},
   "source": [
    "#### refine the mask"
   ]
  },
  {
   "cell_type": "code",
   "execution_count": 45,
   "id": "40424fd9",
   "metadata": {},
   "outputs": [],
   "source": [
    "#find best 3d mask smoothing\n",
    "mask_threshold = 0.45\n",
    "sigma_mask=1\n",
    "mask3d_0 = data_series.mask.copy()\n",
    "mask3d = np.where(data_series.mask, 1.0, 0.0)\n",
    "mask3d = skfl.gaussian(mask3d, sigma = sigma_mask)\n",
    "mask3d = np.where(mask3d > mask_threshold, True, False)\n",
    "pu.matshow_n([np.sum(data_series.mask,axis=0), np.sum(mask3d,axis=0)],[\"old mask\",\"smooth mask\"] )\n",
    "data_series.mask = mask3d\n",
    "data_series.plot_mask()\n",
    "data_series.mask = mask3d_0"
   ]
  },
  {
   "cell_type": "code",
   "execution_count": 46,
   "id": "2f14c516",
   "metadata": {},
   "outputs": [],
   "source": [
    "#save the best smoothed mask\n",
    "data_series.mask = mask3d\n"
   ]
  },
  {
   "cell_type": "markdown",
   "id": "98468d74",
   "metadata": {},
   "source": [
    "#### Save aligned data series"
   ]
  },
  {
   "cell_type": "code",
   "execution_count": 191,
   "id": "900639ca",
   "metadata": {},
   "outputs": [],
   "source": [
    "# with open(\"data_series.pickle\", \"wb\") as f:\n",
    "#     pickle.dump(data_series, f)"
   ]
  },
  {
   "cell_type": "code",
   "execution_count": 190,
   "id": "df504fee",
   "metadata": {},
   "outputs": [],
   "source": [
    "data_series.plot_phasemaps()"
   ]
  },
  {
   "cell_type": "code",
   "execution_count": null,
   "id": "6dceae05",
   "metadata": {},
   "outputs": [],
   "source": []
  },
  {
   "cell_type": "code",
   "execution_count": 192,
   "id": "5b3a951c",
   "metadata": {},
   "outputs": [
    {
     "data": {
      "text/plain": [
       "<mayavi.modules.iso_surface.IsoSurface at 0x21c1e77a258>"
      ]
     },
     "execution_count": 192,
     "metadata": {},
     "output_type": "execute_result"
    }
   ],
   "source": []
  },
  {
   "cell_type": "markdown",
   "id": "360f5e01",
   "metadata": {},
   "source": [
    "### Quick reconstruction"
   ]
  },
  {
   "cell_type": "code",
   "execution_count": 8,
   "id": "c53d0077",
   "metadata": {},
   "outputs": [],
   "source": [
    "with open(\"data_series_unrefined.pickle\", \"rb\") as f:\n",
    "    data_series=pickle.load(f)\n",
    "mask0 = data_series.mask.copy()"
   ]
  },
  {
   "cell_type": "code",
   "execution_count": 10,
   "id": "fd5dc1d0",
   "metadata": {},
   "outputs": [],
   "source": [
    "magdata_rec, cost_fun = pre.reconstruct_from_phasemaps_simple(data_series, verbose=False, max_iter=1000)"
   ]
  },
  {
   "cell_type": "code",
   "execution_count": null,
   "id": "5541be3d",
   "metadata": {},
   "outputs": [],
   "source": []
  },
  {
   "cell_type": "code",
   "execution_count": null,
   "id": "6da30bb4",
   "metadata": {},
   "outputs": [],
   "source": []
  },
  {
   "cell_type": "code",
   "execution_count": null,
   "id": "62053b5e",
   "metadata": {},
   "outputs": [],
   "source": []
  },
  {
   "cell_type": "code",
   "execution_count": null,
   "id": "1ccdc85d",
   "metadata": {},
   "outputs": [],
   "source": []
  },
  {
   "cell_type": "code",
   "execution_count": null,
   "id": "4a168e2b",
   "metadata": {},
   "outputs": [],
   "source": []
  },
  {
   "cell_type": "code",
   "execution_count": null,
   "id": "758ac511",
   "metadata": {},
   "outputs": [],
   "source": []
  }
 ],
 "metadata": {
  "kernelspec": {
   "display_name": "Python [conda env:pyramidPatched2] *",
   "language": "python",
   "name": "conda-env-pyramidPatched2-py"
  },
  "language_info": {
   "codemirror_mode": {
    "name": "ipython",
    "version": 3
   },
   "file_extension": ".py",
   "mimetype": "text/x-python",
   "name": "python",
   "nbconvert_exporter": "python",
   "pygments_lexer": "ipython3",
   "version": "3.7.1"
  }
 },
 "nbformat": 4,
 "nbformat_minor": 5
}
