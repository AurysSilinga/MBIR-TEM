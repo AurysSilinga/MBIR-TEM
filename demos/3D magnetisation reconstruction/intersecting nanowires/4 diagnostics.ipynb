{
 "cells": [
  {
   "cell_type": "markdown",
   "id": "ae872d9b",
   "metadata": {},
   "source": [
    "## Notebook for reconstructing from a single alinged tilt-series\n",
    "\n",
    "### 1. 3-d mask adjustments\n",
    "### 2. Reconstruction\n",
    "### 3. Diagnostics"
   ]
  },
  {
   "cell_type": "code",
   "execution_count": 1,
   "id": "43b5bc95",
   "metadata": {},
   "outputs": [],
   "source": [
    "%matplotlib qt"
   ]
  },
  {
   "cell_type": "code",
   "execution_count": 2,
   "id": "7cfba722",
   "metadata": {},
   "outputs": [],
   "source": [
    "import matplotlib.pyplot as plt\n",
    "import numpy as np\n",
    "from PIL import Image\n",
    "import pickle\n",
    "from timeit import default_timer as timer\n",
    "import skimage.filters as skfl"
   ]
  },
  {
   "cell_type": "code",
   "execution_count": 3,
   "id": "df102f15",
   "metadata": {},
   "outputs": [],
   "source": [
    "import hyperspy.api as hs"
   ]
  },
  {
   "cell_type": "code",
   "execution_count": 4,
   "id": "01168970",
   "metadata": {},
   "outputs": [
    {
     "data": {
      "text/plain": [
       "<module 'pyramid' from 'D:\\\\Programmes\\\\Git\\\\empyre-patched\\\\empyre\\\\pyramid\\\\__init__.py'>"
      ]
     },
     "execution_count": 4,
     "metadata": {},
     "output_type": "execute_result"
    }
   ],
   "source": [
    "#load editable pyramid version\n",
    "import sys\n",
    "import os\n",
    "pyramid_dev_version_path=os.path.abspath(r\"D:\\Programmes\\Git\\empyre-patched\\empyre\")\n",
    "sys.path.append(pyramid_dev_version_path)\n",
    "#print(sys.path)\n",
    "import pyramid as pr\n",
    "pr"
   ]
  },
  {
   "cell_type": "code",
   "execution_count": 5,
   "id": "f4df25d4",
   "metadata": {},
   "outputs": [],
   "source": [
    "#Code by A.S.\n",
    "import pyramidas.alignment as pa\n",
    "import pyramidas.util as pu\n",
    "import pyramidas.reconstruction as pre\n",
    "import pyramidas.diagnostics as pd"
   ]
  },
  {
   "cell_type": "markdown",
   "id": "28702b36",
   "metadata": {},
   "source": [
    "### 3.Diagnostics"
   ]
  },
  {
   "cell_type": "code",
   "execution_count": 11,
   "id": "0e4f03f5",
   "metadata": {},
   "outputs": [],
   "source": [
    "import matplotlib as mpl\n",
    "mpl.rcParams.update({\"figure.dpi\":200.0, \n",
    "                     'figure.figsize': [6.0, 4.0],\n",
    "                     'font.size': 12.0, \n",
    "                     'legend.fontsize': 12.0,\n",
    "                     'lines.linewidth': 1})"
   ]
  },
  {
   "cell_type": "code",
   "execution_count": 7,
   "id": "67402066",
   "metadata": {},
   "outputs": [
    {
     "name": "stdout",
     "output_type": "stream",
     "text": [
      "Weights: (0.1, 1.0) Note: 10000 iterations\n",
      "finished calculating for x component\n",
      "finished calculating for y component\n",
      "finished calculating for z component\n",
      "\n",
      "Voxel position: (6, 40, 50)\n",
      "Magnetisation vector is:\n",
      "        (M_x = 6.48e-01 +/- 9.47e-02 T,\n",
      "         M_y = 4.34e-01 +/- 1.01e-01 T,\n",
      "         M_z = -5.31e-02 +/- -8.64e-03 T)\n",
      "Amplitude: 0.782 +/- 0.139 T\n",
      "Spatial resolution (dx, dy, dz): 4.0, 3.1, 5.2 pixels\n",
      "Pixel spacing: 10.25 nm\n",
      "spatial resolution FWHM\n",
      "42.81382543469591\n"
     ]
    }
   ],
   "source": [
    "with open(\"data_combined_refined.pickle\", \"rb\") as f: #data_combined_refined\n",
    "    data_refined=pickle.load(f)\n",
    "    mask0 = data_refined.mask.copy()\n",
    "    \n",
    "result_folder=\".//\"\n",
    "with open(result_folder+\"reconstruction_results_em1e0_10000_mask_corrected.pickle\", \"rb\") as f:\n",
    "    results=pickle.load(f)\n",
    "key=(1e-1,1e0)\n",
    "magdata_rec, cost_function, cost_values, result_note = results[key]\n",
    "mask_edge=5\n",
    "print(\"Weights:\",key,\"Note:\",result_note)\n",
    "\n",
    "#select the voxel to evaluate\n",
    "voxel_position = pd.find_voxel_coords(data_refined.mask, position_zyx=[6,40,50], mask_edge=mask_edge, plot_results=True)\n",
    "\n",
    "#Calculate information content distributions\n",
    "magdata_rec, cost_function, cost_values = results[key][:3]\n",
    "mag_rec = magdata_rec\n",
    "cost_f = cost_function\n",
    "data = data_refined\n",
    "\n",
    "diagnostic_results = pd.bayesian_diagnostics(data, mag_rec, cost_f, voxel_position_zyx=voxel_position, \n",
    "                       verbose=True, max_iter=1000, plot_results=True)\n",
    "\n",
    "print(\"spatial resolution FWHM\")\n",
    "print(np.sqrt(np.average(diagnostic_results[1]**2))*10.25)\n",
    "\n",
    "# with open(result_folder+\"diagnostics_em1e0_10000_mask_corrected.pickle\",\"wb\") as f:\n",
    "#     pickle.dump(diagnostic_results, f)"
   ]
  },
  {
   "cell_type": "code",
   "execution_count": 8,
   "id": "0d6a29eb",
   "metadata": {},
   "outputs": [],
   "source": [
    "# with open(result_folder+\"diagnostics_em1e0_10000_mask_corrected.pickle\",\"wb\") as f:\n",
    "#     pickle.dump(diagnostic_results, f)"
   ]
  },
  {
   "cell_type": "markdown",
   "id": "7930c246",
   "metadata": {},
   "source": [
    "### For plotting"
   ]
  },
  {
   "cell_type": "code",
   "execution_count": 7,
   "id": "92bfa293",
   "metadata": {},
   "outputs": [
    {
     "name": "stdout",
     "output_type": "stream",
     "text": [
      "Weights: (0.1, 1.0) Note: 10000 iterations\n"
     ]
    }
   ],
   "source": [
    "result_folder=\".//\"\n",
    "with open(result_folder+\"diagnostics_em1e0_10000_mask_corrected.pickle\", \"rb\") as f:\n",
    "    diagnostic_results=pickle.load(f)\n",
    "    \n",
    "with open(\"data_combined_refined.pickle\", \"rb\") as f: #data_combined_refined\n",
    "    data_refined=pickle.load(f)\n",
    "    mask0 = data_refined.mask.copy()\n",
    "    \n",
    "\n",
    "with open(result_folder+\"reconstruction_results_em1e0_10000_mask_corrected.pickle\", \"rb\") as f:\n",
    "    results=pickle.load(f)\n",
    "key=(1e-1,1e0)\n",
    "magdata_rec, cost_function, cost_values, result_note = results[key]\n",
    "mask_edge=5\n",
    "print(\"Weights:\",key,\"Note:\",result_note)"
   ]
  },
  {
   "cell_type": "markdown",
   "id": "24d1ca5a",
   "metadata": {},
   "source": [
    "#### Error from missaligned images"
   ]
  },
  {
   "cell_type": "code",
   "execution_count": 11,
   "id": "a1114d5f",
   "metadata": {},
   "outputs": [
    {
     "data": {
      "text/plain": [
       "(0.13872928105402318,\n",
       " array([3.98820157, 3.07197142, 5.19597813]),\n",
       " (<pyramid.diagnostics.Diagnostics at 0x2849a605b38>,\n",
       "  <pyramid.diagnostics.Diagnostics at 0x2849a51d5f8>,\n",
       "  <pyramid.diagnostics.Diagnostics at 0x2849a605a20>))"
      ]
     },
     "execution_count": 11,
     "metadata": {},
     "output_type": "execute_result"
    }
   ],
   "source": [
    "error_total, fwhm_xyz, diagnostic_vec = diagnostic_results\n",
    "print(diagnostic_results)"
   ]
  },
  {
   "cell_type": "code",
   "execution_count": 119,
   "id": "cfb9f8d6",
   "metadata": {},
   "outputs": [
    {
     "name": "stdout",
     "output_type": "stream",
     "text": [
      "spatial resolution FWHM\n"
     ]
    },
    {
     "data": {
      "text/plain": [
       "42.81006617197481"
      ]
     },
     "execution_count": 119,
     "metadata": {},
     "output_type": "execute_result"
    }
   ],
   "source": [
    "# get average FWHM in nm\n",
    "print(\"spatial resolution FWHM\")\n",
    "np.sqrt(np.average(diagnostic_results[1]**2))*data_refined.a"
   ]
  },
  {
   "cell_type": "code",
   "execution_count": 112,
   "id": "48a87836",
   "metadata": {},
   "outputs": [
    {
     "name": "stdout",
     "output_type": "stream",
     "text": [
      "average magnetisation\n"
     ]
    },
    {
     "data": {
      "text/plain": [
       "0.8657271679751307"
      ]
     },
     "execution_count": 112,
     "metadata": {},
     "output_type": "execute_result"
    }
   ],
   "source": [
    "# average magnetisation *mu0\n",
    "mag_avg=np.mean(magdata_rec.field_amp[magdata_rec.get_mask()])\n",
    "print(\"average magnetisation\")\n",
    "mag_avg"
   ]
  },
  {
   "cell_type": "code",
   "execution_count": 25,
   "id": "94d4b832",
   "metadata": {},
   "outputs": [
    {
     "name": "stdout",
     "output_type": "stream",
     "text": [
      "relative alignment error %,  1.001537249449647\n"
     ]
    },
    {
     "data": {
      "text/plain": [
       "0.008670580065876449"
      ]
     },
     "execution_count": 25,
     "metadata": {},
     "output_type": "execute_result"
    }
   ],
   "source": [
    "# evaluate perturbation of forcing one phase image to be perfect\n",
    "err_alignment = error_total/data_refined.count\n",
    "print(\"relative alignment error, %, \", err_alignment/mag_avg*100)\n",
    "err_alignment"
   ]
  },
  {
   "cell_type": "markdown",
   "id": "ae3693ff",
   "metadata": {},
   "source": [
    "#### Error from phase measurement noise (by measuring phase differences between reference holograms)"
   ]
  },
  {
   "cell_type": "code",
   "execution_count": 113,
   "id": "7ce69df6",
   "metadata": {},
   "outputs": [
    {
     "name": "stdout",
     "output_type": "stream",
     "text": [
      "mean of each image [0.0000000e+00 0.0000000e+00 0.0000000e+00 1.9292722e-07 3.6831560e-07]\n",
      "corner pixel in each image [0.3956958, 0.39381522, 0.38318023, 0.40925312, 0.3770256]\n",
      "average std per pixel, rad 0.016117094\n"
     ]
    },
    {
     "data": {
      "text/plain": [
       "0.016117094"
      ]
     },
     "execution_count": 113,
     "metadata": {},
     "output_type": "execute_result"
    }
   ],
   "source": [
    "#load reference phase images and rebin to reconstruction size\n",
    "raw_scaling=0.64057 #nm\n",
    "rebin_factor=round(data_refined.a/raw_scaling)\n",
    "\n",
    "paths=[]\n",
    "images=[]\n",
    "for i in range(1,6):\n",
    "    p=f\"D:\\\\Programmes\\\\Python\\\\pyramid\\\\Package testing\\\\bridge v3\\\\double series\\\\for diagnostics\\\\90phi_flip 1_+0\\\\ref phases\\\\ref_C_P frame {i}.tif\"\n",
    "    paths.append(p)\n",
    "    img=hs.load(p).data\n",
    "    img=pu.rebin_img(img, rebin_factor=rebin_factor)\n",
    "    images.append(np.array(img))\n",
    "\n",
    "#remove phase offesets and get std for each pixel\n",
    "\n",
    "images = [im-np.mean(im) for im in images]\n",
    "print(\"mean of each image\", np.mean(images,axis=(1,2)))\n",
    "\n",
    "\n",
    "std=np.std(images,axis=0)\n",
    "print(\"corner pixel in each image\",[im[0,0] for im in images])\n",
    "std=np.mean(std)\n",
    "print(\"average std per pixel, rad\", std)\n",
    "std"
   ]
  },
  {
   "cell_type": "code",
   "execution_count": 117,
   "id": "06cde165",
   "metadata": {},
   "outputs": [
    {
     "name": "stdout",
     "output_type": "stream",
     "text": [
      "relative phase measurement error, %,  0.12549729958711744\n"
     ]
    },
    {
     "data": {
      "text/plain": [
       "0.0010864642176008172"
      ]
     },
     "execution_count": 117,
     "metadata": {},
     "output_type": "execute_result"
    }
   ],
   "source": [
    "# estimage perturbation on reconstruction\n",
    "diag_x=diagnostic_vec[0]\n",
    "G=diag_x.gain_row\n",
    "err_meas = np.sqrt(np.dot(G,G))*std\n",
    "print(\"relative phase measurement error, %, \", err_meas/mag_avg*100)\n",
    "err_meas"
   ]
  },
  {
   "cell_type": "code",
   "execution_count": 116,
   "id": "d0e15e03",
   "metadata": {},
   "outputs": [
    {
     "name": "stdout",
     "output_type": "stream",
     "text": [
      "relative phase perturbation error, %,  1.0093693249939901\n"
     ]
    },
    {
     "data": {
      "text/plain": [
       "0.008738384471680164"
      ]
     },
     "execution_count": 116,
     "metadata": {},
     "output_type": "execute_result"
    }
   ],
   "source": [
    "# total magnitude error in T from phase perturbations\n",
    "err_pert = np.hypot(err_alignment,err_meas)\n",
    "print(\"relative phase perturbation error, %, \", err_pert/mag_avg*100)\n",
    "err_pert"
   ]
  },
  {
   "cell_type": "code",
   "execution_count": 190,
   "id": "c186ceaf",
   "metadata": {},
   "outputs": [
    {
     "data": {
      "text/plain": [
       "<mayavi.modules.iso_surface.IsoSurface at 0x284becf22b0>"
      ]
     },
     "execution_count": 190,
     "metadata": {},
     "output_type": "execute_result"
    }
   ],
   "source": [
    "data_refined.plot_mask(pretty=True, labels=False, grid=False)"
   ]
  },
  {
   "cell_type": "code",
   "execution_count": null,
   "id": "0d1cb593",
   "metadata": {},
   "outputs": [],
   "source": []
  },
  {
   "cell_type": "code",
   "execution_count": 13,
   "id": "200a558e",
   "metadata": {},
   "outputs": [
    {
     "data": {
      "text/plain": [
       "array([0., 0., 0., ..., 0., 0., 0.])"
      ]
     },
     "execution_count": 13,
     "metadata": {},
     "output_type": "execute_result"
    }
   ],
   "source": [
    "diag_x=diagnostic_vec[0]\n",
    "G=diag_x.gain_row\n",
    "G"
   ]
  },
  {
   "cell_type": "code",
   "execution_count": 187,
   "id": "7e6883b8",
   "metadata": {},
   "outputs": [
    {
     "data": {
      "text/plain": [
       "13.955624447146192"
      ]
     },
     "execution_count": 187,
     "metadata": {},
     "output_type": "execute_result"
    }
   ],
   "source": [
    "pos=diag_x.pos[1:]\n",
    "angle_field.field[pos]"
   ]
  },
  {
   "cell_type": "code",
   "execution_count": 185,
   "id": "fbe5a7b3",
   "metadata": {},
   "outputs": [
    {
     "ename": "NameError",
     "evalue": "name 'pos' is not defined",
     "output_type": "error",
     "traceback": [
      "\u001b[1;31m---------------------------------------------------------------------------\u001b[0m",
      "\u001b[1;31mNameError\u001b[0m                                 Traceback (most recent call last)",
      "\u001b[1;32m<ipython-input-185-4aa910a7a161>\u001b[0m in \u001b[0;36m<module>\u001b[1;34m\u001b[0m\n\u001b[1;32m----> 1\u001b[1;33m \u001b[0mangle_field\u001b[0m\u001b[1;33m[\u001b[0m\u001b[0mpos\u001b[0m\u001b[1;33m]\u001b[0m\u001b[1;33m\u001b[0m\u001b[1;33m\u001b[0m\u001b[0m\n\u001b[0m",
      "\u001b[1;31mNameError\u001b[0m: name 'pos' is not defined"
     ]
    }
   ],
   "source": []
  },
  {
   "cell_type": "code",
   "execution_count": null,
   "id": "332dfc83",
   "metadata": {},
   "outputs": [],
   "source": []
  },
  {
   "cell_type": "code",
   "execution_count": null,
   "id": "3e7f609b",
   "metadata": {},
   "outputs": [],
   "source": []
  },
  {
   "cell_type": "code",
   "execution_count": null,
   "id": "801e42ae",
   "metadata": {},
   "outputs": [],
   "source": []
  },
  {
   "cell_type": "code",
   "execution_count": null,
   "id": "640a5f8b",
   "metadata": {},
   "outputs": [],
   "source": []
  },
  {
   "cell_type": "code",
   "execution_count": 35,
   "id": "a78f064a",
   "metadata": {},
   "outputs": [],
   "source": [
    "#"
   ]
  },
  {
   "cell_type": "markdown",
   "id": "2a826ed8",
   "metadata": {},
   "source": [
    "### Histogram"
   ]
  },
  {
   "cell_type": "code",
   "execution_count": 10,
   "id": "4762bfa1",
   "metadata": {},
   "outputs": [
    {
     "name": "stdout",
     "output_type": "stream",
     "text": [
      "bin_size: 0.02 T\n",
      "mean and std: 0.8531949149935405 0.37593808850896704\n"
     ]
    },
    {
     "data": {
      "text/plain": [
       "(array([  0.,   0.,   1.,   0.,   2.,   2.,   7.,  10.,  22.,  18.,  26.,\n",
       "         37.,  53.,  54.,  75.,  89., 107., 105., 115., 151., 146., 180.,\n",
       "        197., 245., 233., 248., 255., 239., 201., 207., 199., 222., 204.,\n",
       "        202., 229., 221., 206., 188., 217., 223., 204., 207., 225., 199.,\n",
       "        193., 194., 176., 177., 175., 180., 215., 190., 185., 148., 166.,\n",
       "        129., 157., 157., 104., 122., 112., 107., 113.,  86.,  80., 101.,\n",
       "         80.,  97.,  82.,  67.,  66.,  59.,  50.,  51.,  46.,  40.,  40.,\n",
       "         30.,  23.,  23.,  32.,  29.,  26.,  24.,  17.,  18.,  19.,  21.,\n",
       "          9.,  19.,  11.,  17.,   7.,  18.,   9.,  11.,  15.,  19.,   8.,\n",
       "          8.]), 0.02)"
      ]
     },
     "execution_count": 10,
     "metadata": {},
     "output_type": "execute_result"
    }
   ],
   "source": [
    "#histograms\n",
    "pd.histogram_magnetisation(magdata_rec[:,:,:,mask_edge:], [0,2], fit_gauss=False, save_img=False)"
   ]
  },
  {
   "cell_type": "code",
   "execution_count": 49,
   "id": "c880a2d5",
   "metadata": {},
   "outputs": [],
   "source": [
    "def histogram_magnetisation (magdata_rec, range_hist = (1,2), n_bins=100, save_img=False, verbose=True, fit_gauss=True):\n",
    "    \"\"\"\n",
    "    Plots a histogram of magnetisation amplitude and fits a gaussian.\n",
    "    \n",
    "    returns: (bin_counts, bin_edges)\n",
    "    \"\"\"\n",
    "\n",
    "    amp = magdata_rec.field_amp.copy()\n",
    "    amp_distribution = amp[amp>0]\n",
    "\n",
    "    bin_size = (range_hist[1]-range_hist[0])/n_bins\n",
    "    \n",
    "\n",
    "    plt.figure(figsize=[5,4])\n",
    "    bins, bin_edges, temp_patches = plt.hist(amp_distribution, bins = n_bins, range=range_hist)\n",
    "    plt.xlabel(\"$\\mu_0 M_s$, T\")\n",
    "    plt.ylabel(\"Number of voxels\")\n",
    "    \n",
    "    #fit gaussian\n",
    "    if fit_gauss:\n",
    "        def gaussian_1D(x, a, b, c):\n",
    "            return a* np.e**((-1/2)*((x-b)/c)**2)\n",
    "        fun=gaussian_1D\n",
    "        x=np.array(bin_edges[:-1])+bin_size/2 #bin centres\n",
    "        y=bins\n",
    "        starting_pos = (np.max(bins), np.median(x), 0.1)\n",
    "        pop, pcov = op.curve_fit(fun, x, y, p0=starting_pos)\n",
    "        fit_err = np.sqrt(np.diag(pcov))\n",
    "        plt.plot(x, fun(x,*pop), 'r-', label=\"Gaussian fit\")\n",
    "\n",
    "#     plt.legend()\n",
    "    plt.tight_layout()\n",
    "    if save_img:\n",
    "        plt.savefig(\"amp bin.png\",dpi=200)\n",
    "    plt.show()\n",
    "    \n",
    "    if verbose:\n",
    "        print(\"bin_size:\", bin_size, \"T\")\n",
    "        if fit_gauss:\n",
    "            print(\"fitting params (a,b,c) with error:\", pop, fit_err)\n",
    "        print(\"mean and std:\", np.mean(amp_distribution), np.std(amp_distribution))\n",
    "    \n",
    "    return (bins, bin_size)"
   ]
  },
  {
   "cell_type": "code",
   "execution_count": 50,
   "id": "1bcf8dd8",
   "metadata": {},
   "outputs": [
    {
     "name": "stdout",
     "output_type": "stream",
     "text": [
      "bin_size: 0.02 T\n",
      "mean and std: 0.8531949149935405 0.37593808850896704\n"
     ]
    },
    {
     "data": {
      "text/plain": [
       "(array([  0.,   0.,   1.,   0.,   2.,   2.,   7.,  10.,  22.,  18.,  26.,\n",
       "         37.,  53.,  54.,  75.,  89., 107., 105., 115., 151., 146., 180.,\n",
       "        197., 245., 233., 248., 255., 239., 201., 207., 199., 222., 204.,\n",
       "        202., 229., 221., 206., 188., 217., 223., 204., 207., 225., 199.,\n",
       "        193., 194., 176., 177., 175., 180., 215., 190., 185., 148., 166.,\n",
       "        129., 157., 157., 104., 122., 112., 107., 113.,  86.,  80., 101.,\n",
       "         80.,  97.,  82.,  67.,  66.,  59.,  50.,  51.,  46.,  40.,  40.,\n",
       "         30.,  23.,  23.,  32.,  29.,  26.,  24.,  17.,  18.,  19.,  21.,\n",
       "          9.,  19.,  11.,  17.,   7.,  18.,   9.,  11.,  15.,  19.,   8.,\n",
       "          8.]), 0.02)"
      ]
     },
     "execution_count": 50,
     "metadata": {},
     "output_type": "execute_result"
    }
   ],
   "source": [
    "histogram_magnetisation (magdata_rec[:,:,:,mask_edge:], [0,2], save_img=True, fit_gauss=False)"
   ]
  },
  {
   "cell_type": "markdown",
   "id": "e3a268a2",
   "metadata": {},
   "source": [
    "### FSC"
   ]
  },
  {
   "cell_type": "code",
   "execution_count": 45,
   "id": "bfe7f06d",
   "metadata": {},
   "outputs": [
    {
     "name": "stderr",
     "output_type": "stream",
     "text": [
      "C:\\Users\\LOCAL_Aurys\\HyperSpy-bundle\\envs\\pyramidPatched2\\lib\\site-packages\\skimage\\transform\\_warps.py:23: UserWarning: The default multichannel argument (None) is deprecated.  Please specify either True or False explicitly.  multichannel will default to False starting with release 0.16.\n",
      "  warn('The default multichannel argument (None) is deprecated.  Please '\n",
      "C:\\Users\\LOCAL_Aurys\\HyperSpy-bundle\\envs\\pyramidPatched2\\lib\\site-packages\\skimage\\transform\\_warps.py:23: UserWarning: The default multichannel argument (None) is deprecated.  Please specify either True or False explicitly.  multichannel will default to False starting with release 0.16.\n",
      "  warn('The default multichannel argument (None) is deprecated.  Please '\n",
      "C:\\Users\\LOCAL_Aurys\\HyperSpy-bundle\\envs\\pyramidPatched2\\lib\\site-packages\\skimage\\transform\\_warps.py:23: UserWarning: The default multichannel argument (None) is deprecated.  Please specify either True or False explicitly.  multichannel will default to False starting with release 0.16.\n",
      "  warn('The default multichannel argument (None) is deprecated.  Please '\n"
     ]
    }
   ],
   "source": [
    "#FSC\n",
    "#do for all sub-components:\n",
    "mag_rec = magdata_rec[:,:,:,mask_edge:]\n",
    "\n",
    "field_array=mag_rec.field.copy()\n",
    "field_array[:,:,:,:mask_edge]=0\n",
    "\n",
    "FSCs = []\n",
    "resolutions=[]\n",
    "for i in range(3):\n",
    "    array_3d=field_array[i,:,:,:]\n",
    "    ffts = pd.fsc_split_array(array_3d)\n",
    "    freq, FSC, ns_effective = pd.fsc_calculate_correlation(array_3d, *ffts, scale=3, plot_results=True)\n",
    "    FSCs.append(FSC)"
   ]
  },
  {
   "cell_type": "code",
   "execution_count": 46,
   "id": "3dfbbc61",
   "metadata": {},
   "outputs": [],
   "source": [
    "sne=np.sqrt(ns_effective)\n",
    "sigma_3 = 3/(sne+2)\n",
    "hbit=((0.2071+1.9102/sne)/(1.2071+0.9102/sne))\n",
    "\n",
    "freq_p=2*np.array(freq) #for plotting convert to f/nyquist\n",
    "\n",
    "def find_intersection(FSC, hbit, freq_p):\n",
    "    for i in range(len(FSC))[10:]:\n",
    "        fi=FSC[i]\n",
    "        thi=[hbit[i]]\n",
    "        if thi>fi:\n",
    "            resolution = tick_function([freq_p[i-1]])[0]\n",
    "            return(resolution)\n",
    "            break\n",
    "            \n",
    "def tick_function(f):\n",
    "    freqs=[]\n",
    "    for freq in f:\n",
    "        if freq<=1e-10:\n",
    "            freqs.append(None)\n",
    "        else:\n",
    "            f=1/freq*mag_rec.a\n",
    "            freqs.append(\"%.1f\"%f)\n",
    "    return (freqs) #in nm\n",
    "\n",
    "# plt.figure()\n",
    "plt.figure(figsize=[6.0, 4.4])\n",
    "ax1 = plt.gca()\n",
    "ax2 = ax1.twiny()\n",
    "\n",
    "s='xyz'\n",
    "fmts=[\"r.-\",\"g.-\",\"b.-\"]\n",
    "for i,FSC in enumerate(FSCs):\n",
    "    resolution = find_intersection(FSC, hbit, freq_p)\n",
    "    \n",
    "    ax1.plot(freq_p, FSC, fmts[i], label=f\"$m_{s[i]}$, resolution $= {resolution}$ nm\")\n",
    "\n",
    "ax1.plot(freq_p, hbit, 'k-', label=\"1/2 bit threshold\")\n",
    "#ax1.plot(freq_p, sigma_3, 'k-.', label=\"3 sigma\")\n",
    "ax1.set_xlabel(\"Spatial frequency / Nyquist\")\n",
    "ax1.legend() # loc='lower left'\n",
    "ax1.set_ylabel(\"Correlation coefficient\")\n",
    "\n",
    "\n",
    "xtickslocs = ax1.get_xticks()[1:-1]*mag_rec.a/10\n",
    "ax2.set_xlim(ax1.get_xlim())\n",
    "ax2.set_xticks(xtickslocs)\n",
    "ax2.set_xticklabels(tick_function(xtickslocs))\n",
    "ax2.set_xlabel(\"Resolution, nm\")\n",
    "plt.tight_layout()\n",
    "plt.savefig(\"FSC.png\",dpi=200)\n"
   ]
  },
  {
   "cell_type": "code",
   "execution_count": null,
   "id": "c47b4321",
   "metadata": {},
   "outputs": [],
   "source": []
  },
  {
   "cell_type": "markdown",
   "id": "03f9bd08",
   "metadata": {},
   "source": [
    "### plotting"
   ]
  },
  {
   "cell_type": "code",
   "execution_count": 121,
   "id": "82b9da6b",
   "metadata": {},
   "outputs": [
    {
     "name": "stdout",
     "output_type": "stream",
     "text": [
      "Weights: (0.1, 1.0) Note: 10000 iterations\n"
     ]
    }
   ],
   "source": [
    "#for plotting \n",
    "with open(\"data_combined_refined.pickle\", \"rb\") as f:\n",
    "    data_refined=pickle.load(f)\n",
    "    mask0 = data_refined.mask.copy()\n",
    "    \n",
    "result_folder=\".//\"\n",
    "with open(result_folder+\"reconstruction_results_em1e0_10000_mask_corrected.pickle\", \"rb\") as f:\n",
    "    results=pickle.load(f)\n",
    "key=(1e-1,1e-0)\n",
    "magdata_rec, cost_function, cost_values, result_note = results[key]\n",
    "mask_edge=5\n",
    "print(\"Weights:\",key,\"Note:\",result_note)"
   ]
  },
  {
   "cell_type": "code",
   "execution_count": 122,
   "id": "d17d3605",
   "metadata": {},
   "outputs": [
    {
     "name": "stdout",
     "output_type": "stream",
     "text": [
      "Max spin angle: 174.71739245264737\n"
     ]
    }
   ],
   "source": [
    "angle_field = pre.inspect_magdata(magdata_rec[:,:,:,mask_edge:], plot_angles=True)\n"
   ]
  },
  {
   "cell_type": "code",
   "execution_count": 10,
   "id": "d417367b",
   "metadata": {},
   "outputs": [
    {
     "name": "stdout",
     "output_type": "stream",
     "text": [
      "\n",
      "N = 5 cost value pairs.\n",
      "model, regulariser, sum\n",
      "2.48153e+04; 7.76239e+02; 2.55915e+04\n",
      "2.47695e+04; 7.83207e+02; 2.55527e+04\n",
      "2.47583e+04; 7.89113e+02; 2.55474e+04\n",
      "2.47561e+04; 7.90496e+02; 2.55466e+04\n",
      "2.47553e+04; 7.91000e+02; 2.55463e+04\n",
      "\n"
     ]
    }
   ],
   "source": [
    "pre.inspect_cost_values(cost_values, print_chis=True, scale='not log')"
   ]
  },
  {
   "cell_type": "code",
   "execution_count": 39,
   "id": "479cdc42",
   "metadata": {},
   "outputs": [
    {
     "name": "stdout",
     "output_type": "stream",
     "text": [
      "bin_size: 0.02 T\n",
      "fitting params (a,b,c) with error: [236.03521899   0.80080298   0.36850077] [7.38042736 0.01329792 0.01362243]\n",
      "mean and std: 0.8220901932384945 0.31551156867126356\n"
     ]
    },
    {
     "data": {
      "text/plain": [
       "(array([  0.,   0.,   1.,   0.,   2.,   2.,   7.,  10.,  22.,  18.,  26.,\n",
       "         37.,  53.,  54.,  75.,  89., 107., 105., 115., 151., 146., 180.,\n",
       "        197., 245., 233., 248., 255., 239., 201., 207., 199., 222., 204.,\n",
       "        202., 229., 221., 206., 188., 217., 223., 204., 207., 225., 199.,\n",
       "        193., 194., 176., 177., 175., 180., 274., 230., 223., 160., 190.,\n",
       "        163., 181., 193., 162., 163., 154., 126., 113.,  95.,  85.,  97.,\n",
       "         70.,  73.,  73.,  69., 218., 130.,  48.,  18.,  12.,   3.,   1.,\n",
       "          0.,   2.,   1.,   1.,   1.,   1.,   0.,   0.,   0.,   0.,   1.,\n",
       "          0.,   1.,   1.,   0.,   0.,   1.,   0.,   0.,   1.,   1.,   0.,\n",
       "          0.]), 0.02)"
      ]
     },
     "execution_count": 39,
     "metadata": {},
     "output_type": "execute_result"
    }
   ],
   "source": [
    "pd.histogram_magnetisation(magdata_rec[...,mask_edge:],range_hist=(0,2) )"
   ]
  },
  {
   "cell_type": "code",
   "execution_count": 16,
   "id": "7ea056be",
   "metadata": {},
   "outputs": [],
   "source": []
  },
  {
   "cell_type": "markdown",
   "id": "cd77c740",
   "metadata": {},
   "source": [
    "### slices"
   ]
  },
  {
   "cell_type": "code",
   "execution_count": 123,
   "id": "a619d277",
   "metadata": {},
   "outputs": [],
   "source": [
    "mag_slice=magdata_rec[...,mask_edge:]\n",
    "t=mag_slice.plot_quiver3d(mode='arrow', ar_dens=2)"
   ]
  },
  {
   "cell_type": "code",
   "execution_count": 124,
   "id": "1a3e4ab5",
   "metadata": {},
   "outputs": [],
   "source": [
    "# mag_slice.field = np.sqrt(np.abs(mag_slice.field)) * np.sign(mag_slice.field)\n",
    "# too_big=mag_slice.field_amp>1.25\n",
    "mag_slice=mag_slice[:,:,5:-10,5:]\n",
    "mag_slice.field[mag_slice.field>1] = 1\n",
    "t=mag_slice.plot_quiver3d(mode='arrow', ar_dens=2, labels=False, grid=False)"
   ]
  },
  {
   "cell_type": "code",
   "execution_count": 125,
   "id": "af6a2304",
   "metadata": {},
   "outputs": [],
   "source": [
    "slice_position=5\n",
    "xoffset=30\n",
    "yoffset=10\n",
    "# navigator\n",
    "mag_slice=pr.VectorData(1, magdata_rec.field[...,mask_edge:].copy())\n",
    "mask = mag_slice.get_mask()\n",
    "scalar = np.where(mask, 1, 0)\n",
    "nav_field = pr.VectorData(1, np.array((scalar, np.zeros(mask.shape), np.zeros(mask.shape))))\n",
    "nav_field.field[0,5,40,50]=4\n",
    "\n",
    "# coloring nav\n",
    "scalar[slice_position-1:slice_position+1,:,:]=scalar[slice_position-1:slice_position+1,:,:]*(-1)\n",
    "#nav_field.field[:,slice_position,:,:] = nav_field.field[:,slice_position,:,:]*2\n",
    "t=nav_field.plot_quiver3d(direction=(-20,-70,170) ,mode='cube', \n",
    "                          opacity=1, ar_dens=1, coloring='custom', custom_scalar=scalar, line_width=1,\n",
    "                          labels=False, grid=False, orientation=False) #'arrow'\n",
    "\n",
    "slice_mask = np.full(mask.shape, True)\n",
    "slice_mask=np.array([slice_mask]*3)\n",
    "slice_mask[:,slice_position:slice_position+1,:,:]=False\n",
    "\n",
    "mag_slice.field = np.sqrt(np.abs(mag_slice.field)) * np.sign(mag_slice.field)\n",
    "mag_slice.field[slice_mask]=0\n",
    "mag_slice=mag_slice[:,:,:-yoffset,xoffset:]\n",
    "t=mag_slice.plot_quiver3d(direction=(90,0,60), mode='arrow', ar_dens=1, coloring='angle', \n",
    "                          labels=False, orientation=False, grid=False)\n"
   ]
  },
  {
   "cell_type": "code",
   "execution_count": 126,
   "id": "25b61590",
   "metadata": {},
   "outputs": [],
   "source": [
    "magdata_rec.plot_quiver3d()\n",
    "save_images=True\n",
    "file=r\"./gifs/slices\"\n",
    "for i in range (3,8)[::2]:\n",
    "\n",
    "    slice_position=i\n",
    "    xoffset=30\n",
    "    yoffset=10\n",
    "    # navigator\n",
    "    mag_slice=pr.VectorData(1, magdata_rec.field[...,mask_edge:].copy())\n",
    "    mask = mag_slice.get_mask()\n",
    "    scalar = np.where(mask, 1, 0)\n",
    "    nav_field = pr.VectorData(1, np.array((scalar, np.zeros(mask.shape), np.zeros(mask.shape))))\n",
    "    nav_field.field[0,5,40,50]=4\n",
    "\n",
    "\n",
    "    scalar[slice_position:slice_position+2,:,:]=scalar[slice_position:slice_position+2,:,:]*(-1)\n",
    "    #nav_field.field[:,slice_position,:,:] = nav_field.field[:,slice_position,:,:]*2\n",
    "    tn=nav_field.plot_quiver3d(direction=(-20,-70,200) ,mode='cube', \n",
    "                              opacity=1, ar_dens=1, coloring='custom', custom_scalar=scalar, line_width=1,\n",
    "                              labels=False, grid=False, orientation=False) #'arrow'\n",
    "\n",
    "    slice_mask = np.full(mask.shape, True)\n",
    "    slice_mask=np.array([slice_mask]*3)\n",
    "    slice_mask[:,slice_position,:,:]=False\n",
    "\n",
    "    mag_slice.field = np.sqrt(np.abs(mag_slice.field)) * np.sign(mag_slice.field)\n",
    "    mag_slice.field[slice_mask]=0\n",
    "    mag_slice=mag_slice[:,:,:-yoffset,xoffset:]\n",
    "    t=mag_slice.plot_quiver3d(direction=(90,0,60), mode='arrow', ar_dens=1, coloring='angle', \n",
    "                              labels=False, orientation=False, grid=False)\n",
    "    if save_images:\n",
    "        img = Image.fromarray(tn[1])\n",
    "        img=img.convert(\"RGBA\")\n",
    "        fp_out=file+str(i)+\"_nav.png\"\n",
    "        img.save(fp=fp_out, format='png', interlace=False)\n",
    "        \n",
    "        img = Image.fromarray(t[1])\n",
    "        img=img.convert(\"RGBA\")\n",
    "        fp_out=file+str(i)+\"_slice.png\"\n",
    "        img.save(fp=fp_out, format='png', interlace=False)"
   ]
  },
  {
   "cell_type": "code",
   "execution_count": null,
   "id": "f64bb4ec",
   "metadata": {},
   "outputs": [],
   "source": [
    "mag_slice.shape"
   ]
  },
  {
   "cell_type": "code",
   "execution_count": null,
   "id": "27238f27",
   "metadata": {},
   "outputs": [],
   "source": [
    "mag_slice=magdata_rec[:,1:,1:,mask_edge:]\n",
    "mean_field=np.mean(mag_slice.field, axis=1)\n",
    "mean_field=np.pad(mean_field, ((0,0),(10,0,),(1,1)))\n",
    "mag_field=np.zeros((3,1,*mean_field.shape[-2:]))\n",
    "mag_field[:,0,:,:]=mean_field\n",
    "mag_slice=pr.VectorData(mag_slice.a, mag_field)\n",
    "mag_slice.field = np.sqrt(np.abs(mag_slice.field)) * np.sign(mag_slice.field)\n",
    "print(mag_slice.field.shape)\n",
    "mag_slice.plot_quiver_field(ar_dens=2, scale=0.5)"
   ]
  },
  {
   "cell_type": "code",
   "execution_count": null,
   "id": "7265424f",
   "metadata": {},
   "outputs": [],
   "source": [
    "np.pad?"
   ]
  },
  {
   "cell_type": "code",
   "execution_count": null,
   "id": "6faded50",
   "metadata": {},
   "outputs": [],
   "source": []
  },
  {
   "cell_type": "code",
   "execution_count": null,
   "id": "f929113c",
   "metadata": {},
   "outputs": [],
   "source": [
    "print(slice_mask.shape, mag_slice.field.shape)"
   ]
  },
  {
   "cell_type": "code",
   "execution_count": 175,
   "id": "4730fa83",
   "metadata": {},
   "outputs": [
    {
     "name": "stdout",
     "output_type": "stream",
     "text": [
      "Max spin angle: 174.71739245264737\n"
     ]
    }
   ],
   "source": [
    "angle_field = pre.inspect_magdata(magdata_rec[:,:,:,mask_edge:], plot_angles=True)"
   ]
  },
  {
   "cell_type": "code",
   "execution_count": 15,
   "id": "5e1b39b1",
   "metadata": {},
   "outputs": [
    {
     "ename": "NameError",
     "evalue": "name 'angle_field' is not defined",
     "output_type": "error",
     "traceback": [
      "\u001b[1;31m---------------------------------------------------------------------------\u001b[0m",
      "\u001b[1;31mNameError\u001b[0m                                 Traceback (most recent call last)",
      "\u001b[1;32m<ipython-input-15-5de167f7a491>\u001b[0m in \u001b[0;36m<module>\u001b[1;34m\u001b[0m\n\u001b[0;32m      1\u001b[0m \u001b[1;31m#normalise field:\u001b[0m\u001b[1;33m\u001b[0m\u001b[1;33m\u001b[0m\u001b[1;33m\u001b[0m\u001b[0m\n\u001b[1;32m----> 2\u001b[1;33m \u001b[0mangles\u001b[0m \u001b[1;33m=\u001b[0m \u001b[0mangle_field\u001b[0m\u001b[1;33m.\u001b[0m\u001b[0mfield\u001b[0m\u001b[1;33m.\u001b[0m\u001b[0mcopy\u001b[0m\u001b[1;33m(\u001b[0m\u001b[1;33m)\u001b[0m\u001b[1;33m\u001b[0m\u001b[1;33m\u001b[0m\u001b[0m\n\u001b[0m\u001b[0;32m      3\u001b[0m \u001b[0mvectors\u001b[0m\u001b[1;33m=\u001b[0m\u001b[0mmagdata_rec\u001b[0m\u001b[1;33m[\u001b[0m\u001b[1;33m...\u001b[0m\u001b[1;33m,\u001b[0m\u001b[0mmask_edge\u001b[0m\u001b[1;33m:\u001b[0m\u001b[1;33m]\u001b[0m\u001b[1;33m\u001b[0m\u001b[1;33m\u001b[0m\u001b[0m\n\u001b[0;32m      4\u001b[0m \u001b[0mangles\u001b[0m\u001b[1;33m[\u001b[0m\u001b[0mangles\u001b[0m\u001b[1;33m>\u001b[0m\u001b[1;36m90\u001b[0m\u001b[1;33m]\u001b[0m\u001b[1;33m=\u001b[0m\u001b[1;36m90\u001b[0m\u001b[1;33m\u001b[0m\u001b[1;33m\u001b[0m\u001b[0m\n\u001b[0;32m      5\u001b[0m \u001b[0mmask\u001b[0m \u001b[1;33m=\u001b[0m \u001b[0mvectors\u001b[0m\u001b[1;33m.\u001b[0m\u001b[0mget_mask\u001b[0m\u001b[1;33m(\u001b[0m\u001b[1;33m)\u001b[0m\u001b[1;33m\u001b[0m\u001b[1;33m\u001b[0m\u001b[0m\n",
      "\u001b[1;31mNameError\u001b[0m: name 'angle_field' is not defined"
     ]
    }
   ],
   "source": [
    "#normalise field:\n",
    "angles = angle_field.field.copy()\n",
    "vectors=magdata_rec[...,mask_edge:]\n",
    "angles[angles>90]=90\n",
    "mask = vectors.get_mask()\n",
    "for i in range(3):\n",
    "    vectors.field[i,mask]=vectors.field[i,mask]/vectors.field_amp[mask]*(angles[mask])\n",
    "t=vectors.plot_quiver3d(mode='sphere', opacity=0.3, ar_dens=1, coloring='custom', custom_scalar=angles) #'arrow'"
   ]
  },
  {
   "cell_type": "code",
   "execution_count": 133,
   "id": "2664b306",
   "metadata": {},
   "outputs": [
    {
     "name": "stdout",
     "output_type": "stream",
     "text": [
      "(1, 113, 65)\n"
     ]
    },
    {
     "data": {
      "text/plain": [
       "<matplotlib.axes._subplots.AxesSubplot at 0x284b7074eb8>"
      ]
     },
     "execution_count": 133,
     "metadata": {},
     "output_type": "execute_result"
    }
   ],
   "source": [
    "'max spin plot'\n",
    "\n",
    "f = np.max(angle_field.field,axis=0)\n",
    "f[f>90]=90\n",
    "f[f<0]=0\n",
    "f_shaped=np.ones((1,*f.shape))\n",
    "f_shaped[0,:,:]=f\n",
    "f_shaped = np.pad(f_shaped, ((0,0),(20,0),(0,1)))\n",
    "print(f_shaped.shape)\n",
    "maxang = pr.ScalarData(10, f_shaped)\n",
    "maxang.plot_field()"
   ]
  },
  {
   "cell_type": "code",
   "execution_count": 181,
   "id": "2b3acd73",
   "metadata": {},
   "outputs": [],
   "source": [
    "f = np.max(angle_field.field,axis=0)\n",
    "f[f>90]=90\n",
    "f[f<0]=0\n",
    "plt.matshow(f[10:-15,10:], origin='lower', cmap='magma', vmin=0, vmax=90)\n",
    "plt.axis('off')\n",
    "cb=plt.colorbar(orientation='horizontal')\n",
    "l=[0,30,60,90]\n",
    "cb.set_ticks(l)\n",
    "l=[str(d)+u'\\N{DEGREE SIGN}' for d in l]\n",
    "cb.set_ticklabels(l)"
   ]
  },
  {
   "cell_type": "code",
   "execution_count": 180,
   "id": "f23d4eb4",
   "metadata": {},
   "outputs": [],
   "source": [
    "# red_ang = angle_field.field[:,0:-44,10:]\n",
    "red_ang = angle_field.field.copy()[:,10:-15,10:]\n",
    "red_ang[:,40:50,:]=0\n",
    "plt.matshow(np.max(red_ang,axis=0))\n",
    "f = np.max(red_ang,axis=1)\n",
    "f[f>90]=90\n",
    "f[f<0]=0\n",
    "plt.matshow(f[:,:], origin='lower', cmap='magma', vmin=0, vmax=90)\n",
    "plt.axis('off')\n",
    "cb=plt.colorbar(orientation='horizontal')\n",
    "l=[0,30,60,90]\n",
    "cb.set_ticks(l)\n",
    "l=[str(d)+u'\\N{DEGREE SIGN}' for d in l]\n",
    "cb.set_ticklabels(l)"
   ]
  },
  {
   "cell_type": "code",
   "execution_count": null,
   "id": "944bdb48",
   "metadata": {},
   "outputs": [],
   "source": [
    "data_combined.plot_phasemaps()"
   ]
  },
  {
   "cell_type": "code",
   "execution_count": null,
   "id": "0e5e81cd",
   "metadata": {},
   "outputs": [],
   "source": [
    "data_combined.plot_mask(labels=False, pretty=True)"
   ]
  },
  {
   "cell_type": "markdown",
   "id": "107cd452",
   "metadata": {},
   "source": [
    "### plots for projection maps"
   ]
  },
  {
   "cell_type": "code",
   "execution_count": 11,
   "id": "ac8d556c",
   "metadata": {},
   "outputs": [],
   "source": [
    "data=data_combined\n",
    "masks=[]\n",
    "titles=[]\n",
    "folder=\".//gifs\"\n",
    "for i in range(data.count):\n",
    "    pm=data.phasemaps[i]\n",
    "    pr=data.projectors[i]\n",
    "    masks.append(pm.mask)\n",
    "    xa=round(np.degrees(pr.tilt))\n",
    "    za=round(np.degrees(pr.rotation))\n",
    "    title=f\"{za}.{xa}.png\"\n",
    "    titles.append(title)\n",
    "pu.matshow_n(masks, titles)\n",
    "\n",
    "# for i in range(data.count):\n",
    "    "
   ]
  },
  {
   "cell_type": "code",
   "execution_count": 13,
   "id": "6c6b5318",
   "metadata": {},
   "outputs": [
    {
     "data": {
      "text/plain": [
       "['7.1.png',\n",
       " '7.21.png',\n",
       " '7.31.png',\n",
       " '7.-9.png',\n",
       " '7.-19.png',\n",
       " '7.-29.png',\n",
       " '7.-39.png',\n",
       " '7.-49.png',\n",
       " '7.-59.png',\n",
       " '-90.-4.png',\n",
       " '-90.-14.png',\n",
       " '-90.-24.png',\n",
       " '-90.-34.png',\n",
       " '-90.-44.png',\n",
       " '-90.-54.png',\n",
       " '-90.-62.png']"
      ]
     },
     "execution_count": 13,
     "metadata": {},
     "output_type": "execute_result"
    }
   ],
   "source": [
    "titles"
   ]
  }
 ],
 "metadata": {
  "kernelspec": {
   "display_name": "Python [conda env:pyramidPatched2] *",
   "language": "python",
   "name": "conda-env-pyramidPatched2-py"
  },
  "language_info": {
   "codemirror_mode": {
    "name": "ipython",
    "version": 3
   },
   "file_extension": ".py",
   "mimetype": "text/x-python",
   "name": "python",
   "nbconvert_exporter": "python",
   "pygments_lexer": "ipython3",
   "version": "3.7.1"
  }
 },
 "nbformat": 4,
 "nbformat_minor": 5
}
