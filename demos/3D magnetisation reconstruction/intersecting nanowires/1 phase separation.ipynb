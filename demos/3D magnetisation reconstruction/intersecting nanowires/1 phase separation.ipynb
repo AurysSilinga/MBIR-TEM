{
 "cells": [
  {
   "cell_type": "markdown",
   "id": "617e45aa",
   "metadata": {},
   "source": [
    "# Phase separation\n",
    "#### This notebook takes a pair of phase image unwrapped in Digital Micrograph and separates the electrostatic and magnetic phase contributions. \n",
    "#### In this notebook the images are aligned, \n",
    "#### warped to remove first order aberations, \n",
    "#### smoothed and rebinned, \n",
    "#### unwrapping errors are masked, \n",
    "#### masks defining confidence and material extent are created."
   ]
  },
  {
   "cell_type": "markdown",
   "id": "c16cab52",
   "metadata": {},
   "source": [
    "## 0. Setup\n",
    "### Imports and defining file locations"
   ]
  },
  {
   "cell_type": "code",
   "execution_count": 1,
   "id": "5186357e",
   "metadata": {},
   "outputs": [],
   "source": [
    "%matplotlib qt"
   ]
  },
  {
   "cell_type": "code",
   "execution_count": 2,
   "id": "fd1b9fbe",
   "metadata": {},
   "outputs": [],
   "source": [
    "import matplotlib.pyplot as plt\n",
    "import numpy as np\n",
    "from PIL import Image\n",
    "import pickle"
   ]
  },
  {
   "cell_type": "code",
   "execution_count": 3,
   "id": "d7f74939",
   "metadata": {},
   "outputs": [],
   "source": [
    "import fpd\n",
    "import hyperspy.api as hs\n",
    "import skimage.filters as skfl"
   ]
  },
  {
   "cell_type": "code",
   "execution_count": 4,
   "id": "3b32b202",
   "metadata": {},
   "outputs": [
    {
     "data": {
      "text/plain": [
       "<module 'pyramid' from 'D:\\\\Programmes\\\\Git\\\\empyre-patched\\\\empyre\\\\pyramid\\\\__init__.py'>"
      ]
     },
     "execution_count": 4,
     "metadata": {},
     "output_type": "execute_result"
    }
   ],
   "source": [
    "#load editable developement pyramid version\n",
    "import sys\n",
    "import os\n",
    "pyramid_dev_version_path=os.path.abspath(r\"D:\\Programmes\\Git\\empyre-patched\\empyre\")\n",
    "sys.path.append(pyramid_dev_version_path)\n",
    "#print(sys.path)\n",
    "import pyramid as pr\n",
    "pr"
   ]
  },
  {
   "cell_type": "code",
   "execution_count": 5,
   "id": "fad96ffc",
   "metadata": {},
   "outputs": [],
   "source": [
    "#Code by A.S.\n",
    "import pyramidas.alignment as pa\n",
    "import pyramidas.util as pu\n",
    "import pyramidas.reconstruction as pre"
   ]
  },
  {
   "cell_type": "code",
   "execution_count": 6,
   "id": "b42ba231",
   "metadata": {},
   "outputs": [
    {
     "data": {
      "text/plain": [
       "'1.5.2'"
      ]
     },
     "execution_count": 6,
     "metadata": {},
     "output_type": "execute_result"
    }
   ],
   "source": [
    "import hyperspy\n",
    "hyperspy.__version__\n"
   ]
  },
  {
   "cell_type": "code",
   "execution_count": 7,
   "id": "36df770c",
   "metadata": {},
   "outputs": [
    {
     "data": {
      "text/plain": [
       "['+0',\n",
       " '+20',\n",
       " '+30',\n",
       " '-10',\n",
       " '-20',\n",
       " '-30',\n",
       " '-40',\n",
       " '-50',\n",
       " '-60',\n",
       " '.ipynb_checkpoints',\n",
       " 'data_series_unrefined.pickle',\n",
       " 'Figure_3.tif',\n",
       " 'v3 phi 0 phase separation.ipynb',\n",
       " 'v3 phi 0 tilt series alignment.ipynb']"
      ]
     },
     "execution_count": 7,
     "metadata": {},
     "output_type": "execute_result"
    }
   ],
   "source": [
    "#check what files are available\n",
    "os.listdir('.')"
   ]
  },
  {
   "cell_type": "code",
   "execution_count": 8,
   "id": "538558ff",
   "metadata": {},
   "outputs": [],
   "source": [
    "folders = ['+0',\n",
    " '+20',\n",
    " '+30',\n",
    " '-10',\n",
    " '-20',\n",
    " '-30',\n",
    " '-40',\n",
    " '-50',\n",
    " '-60']\n",
    "\n",
    "#Tilt for each projection\n",
    "x_tilts = [float(folder) for folder in folders] # deg\n",
    "\n",
    "#filenames before and after flipping the sample\n",
    "f_name1=\"side 1.dm4\"\n",
    "f_name2=\"side 2.dm4\"\n",
    "\n",
    "#Fringe spacing is used to find the nyquist frequency and maximum resolution\n",
    "fringe_spacing = 2.9 #nm\n"
   ]
  },
  {
   "cell_type": "code",
   "execution_count": 9,
   "id": "db7f4075",
   "metadata": {},
   "outputs": [
    {
     "name": "stdout",
     "output_type": "stream",
     "text": [
      "9\n"
     ]
    }
   ],
   "source": [
    "#initiallise storage\n",
    "no_projections=len(folders)\n",
    "datas=[None]*no_projections\n",
    "\n",
    "print(no_projections)"
   ]
  },
  {
   "cell_type": "markdown",
   "id": "0446b393",
   "metadata": {},
   "source": [
    "<a id='index_cell'></a>\n",
    "## 1. Aligning phase images\n",
    "### Run this section once for each tilt angle.\n",
    "### Manual input is required to increment 'i', and to varity if alignment was successfull."
   ]
  },
  {
   "cell_type": "markdown",
   "id": "fc06eab2",
   "metadata": {},
   "source": [
    "### 1.1 Importing files"
   ]
  },
  {
   "cell_type": "code",
   "execution_count": 10,
   "id": "76c201bc",
   "metadata": {},
   "outputs": [
    {
     "name": "stdout",
     "output_type": "stream",
     "text": [
      "Working on projection at 0.0 deg tilt\n"
     ]
    }
   ],
   "source": [
    "#select which folder to process. i=0 is first folder in list\n",
    "i = 0\n",
    "print(f\"Working on projection at {x_tilts[i]:.1f} deg tilt\")"
   ]
  },
  {
   "cell_type": "code",
   "execution_count": 11,
   "id": "f960af84",
   "metadata": {},
   "outputs": [],
   "source": [
    "#file paths\n",
    "\n",
    "#original images\n",
    "f_path1=folders[i]+'\\\\'+f_name1\n",
    "f_path2=folders[i]+'\\\\'+f_name2\n",
    "\n",
    "# file paths for saving\n",
    "transform_path=f_path2[:-len(f_name2)]+\"transform.pickle\"\n",
    "mag_phase_path=f_path1[:-len(f_name1)]+\"mag_phase.tif\"\n",
    "elec_phase_path=f_path1[:-len(f_name1)]+\"elec_phase.tif\"\n",
    "data_path=f_path1[:-len(f_name1)]+\"data.pickle\" #for saving results"
   ]
  },
  {
   "cell_type": "code",
   "execution_count": 12,
   "id": "fec8401a",
   "metadata": {},
   "outputs": [
    {
     "name": "stdout",
     "output_type": "stream",
     "text": [
      "loaded +0\\side 1.dm4 and +0\\side 2.dm4 \n",
      "\n",
      "Original image side 1 <Signal2D, title: side 1, dimensions: (|1855, 1919)>\n",
      "Original image side 2 <Signal2D, title: side 2, dimensions: (|1855, 1919)>\n",
      "Original pixel spacing = 0.64057 nm\n",
      "\n",
      "*****\n",
      "\n",
      "Rebinning by 2.0\n",
      "Rebinned image side 1 <Signal2D, title: , dimensions: (|927, 959)>\n",
      "Rebinned image side 2 <Signal2D, title: , dimensions: (|927, 959)>\n",
      "Rebinned pixel spacing = 1.2811 nm\n"
     ]
    }
   ],
   "source": [
    "#load dm files\n",
    "s1_orig=hs.load(f_path1)\n",
    "s2_orig=hs.load(f_path2)\n",
    "\n",
    "print(\"loaded\",f_path1,\"and\",f_path2,\"\\n\")\n",
    "\n",
    "s1, s2, a_spacing = pa.equalise_hspy_signals(s1_orig, s2_orig, fringe_spacing, plot_original = False, plot_cropped = True)"
   ]
  },
  {
   "cell_type": "markdown",
   "id": "de053789",
   "metadata": {},
   "source": [
    "### 1.2 Aligning phase images"
   ]
  },
  {
   "cell_type": "code",
   "execution_count": 13,
   "id": "7bda7aae",
   "metadata": {},
   "outputs": [],
   "source": [
    "#set up image cropping\n",
    "\n",
    "interactive = True # whether an interactive cropping UI will be used\n",
    "\n",
    "#start the UI if it is used\n",
    "if interactive:\n",
    "    # make interactive RoI selector\n",
    "    img=s1.data+s2.data\n",
    "    s=hs.signals.Signal2D(img)\n",
    "    s.metadata.General.title = \"Select edge detection area\"\n",
    "    s.plot()\n",
    "    left,right,top,bottom=s.axes_manager.signal_extent\n",
    "    rect=hs.roi.RectangularROI(right*0.1,bottom*0.1,right*0.9,bottom*0.9)\n",
    "    roi2D = rect.interactive(s) \n",
    "    \n",
    "else:\n",
    "    indexes = (116.0, 838.0, 235.0, 784.0)\n",
    "    left,right,top,bottom=[int(x) for x in indexes]"
   ]
  },
  {
   "cell_type": "code",
   "execution_count": 14,
   "id": "393e73ca",
   "metadata": {},
   "outputs": [
    {
     "name": "stdout",
     "output_type": "stream",
     "text": [
      "Adjust RoI now!\n"
     ]
    }
   ],
   "source": [
    "if interactive:\n",
    "    print(\"Adjust RoI now!\")"
   ]
  },
  {
   "cell_type": "code",
   "execution_count": 15,
   "id": "85980126",
   "metadata": {},
   "outputs": [
    {
     "name": "stdout",
     "output_type": "stream",
     "text": [
      "left, right, top, bottom (272.0, 818.0, 243.0, 757.0)\n"
     ]
    }
   ],
   "source": [
    "if interactive:\n",
    "    indexes = roi2D.axes_manager.signal_extent\n",
    "    left,right,top,bottom=[int(x) for x in indexes]\n",
    "    print(\"left, right, top, bottom\", roi2D.axes_manager.signal_extent)\n",
    "\n",
    "roi_joint = np.full(s1.data.shape, False)\n",
    "roi_joint[top:bottom, left:right] = True"
   ]
  },
  {
   "cell_type": "code",
   "execution_count": 16,
   "id": "635302be",
   "metadata": {},
   "outputs": [],
   "source": [
    "# identify sample edges\n",
    "sigma=3 #increase to remove noise, but keep low so edges are preserved\n",
    "high_threshold=3.2 #increase until only one edge remains\n",
    "hole_filling_radius = 1 #improves smoothness of masked holes but slows down execution\n",
    "\n",
    "#fill masked holes to avoid discontinuities\n",
    "img1 = pa.fill_raw_dm_image(s1.data, erode_width=3, radius=hole_filling_radius)\n",
    "img2 = pa.fill_raw_dm_image(s2.data, erode_width=3, radius=hole_filling_radius)\n",
    "\n",
    "edges1,edges2 = pa.identify_edges(img1, img2, sigma=sigma, high_threshold=high_threshold, roi=roi_joint)"
   ]
  },
  {
   "cell_type": "code",
   "execution_count": 17,
   "id": "bf2ae992",
   "metadata": {},
   "outputs": [
    {
     "name": "stdout",
     "output_type": "stream",
     "text": [
      "Number of keypoints (left, right): 1000 1000\n",
      "Number of matches: 146\n",
      "Number of inliers: 24\n",
      "\n",
      "nrmse\n",
      "-----\n",
      "initial:   0.7050\n",
      "unwarped:  0.6500\n",
      "optimised: 0.5304\n",
      "\n",
      "Transformation\n",
      "translation = [ -7.09190219 -42.62406692] *( dx,dy)\n",
      "roation = 1.2171319410538985 deg, clockwise\n",
      "scale = (0.9778124091610081, 0.9931817100710685) * (sx,sy)\n",
      "shear -0.06699496783378463\n",
      "Transformation saved as: +0\\transform.pickle\n"
     ]
    }
   ],
   "source": [
    "#measure affline transform between the two images\n",
    "image_warped = True\n",
    "optimise =  True\n",
    "\n",
    "trans_meas = pa.measure_orb_transform(edges1,edges2, image_warped=image_warped, \n",
    "                                   optimise=optimise, trans_path=transform_path, roi=roi_joint)"
   ]
  },
  {
   "cell_type": "code",
   "execution_count": 18,
   "id": "e07eee3f",
   "metadata": {},
   "outputs": [
    {
     "name": "stdout",
     "output_type": "stream",
     "text": [
      "Magnetic phase saved as: +0\\mag_phase.tif\n",
      "Electrostatic phase saved as: +0\\elec_phase.tif\n"
     ]
    }
   ],
   "source": [
    "#apply transform to image 2\n",
    "s2_tr = s2.copy()\n",
    "s2_tr.data = pa.apply_image_trans(s2.data, trans_meas)\n",
    "\n",
    "#calculate the magnetic and electrostatic images\n",
    "pm_mag=(s1-s2_tr)/2*(1) #-1 to account for wrong sideband being used in phase unwrapping.\n",
    "pm_el=(s1+s2_tr)/2*(1)\n",
    "pm_mag.metadata.General.title=\"magnetic phase, xtilt = %.1f\"%(x_tilts[i])\n",
    "pm_el.metadata.General.title=\"electrostatic phase, xtilt = %.1f\"%(x_tilts[i])\n",
    "\n",
    "pm_mag.plot()\n",
    "pm_el.plot()\n",
    "\n",
    "#save the magnetic phase image\n",
    "img=Image.fromarray(pm_mag.data.astype('f4')) \n",
    "img.save(mag_phase_path)\n",
    "print(\"Magnetic phase saved as:\",mag_phase_path)\n",
    "\n",
    "#and save electrostatic phase image\n",
    "img=Image.fromarray(pm_el.data.astype('f4')) \n",
    "img.save(elec_phase_path)\n",
    "print(\"Electrostatic phase saved as:\",elec_phase_path)"
   ]
  },
  {
   "cell_type": "markdown",
   "id": "6a0db96d",
   "metadata": {},
   "source": [
    "### 1.3 Refining phase components before reconstruction"
   ]
  },
  {
   "cell_type": "code",
   "execution_count": 199,
   "id": "32e91afa",
   "metadata": {},
   "outputs": [],
   "source": [
    "#span fill correction by cropping\n",
    "cropping=slice(None,None)"
   ]
  },
  {
   "cell_type": "code",
   "execution_count": 207,
   "id": "be559a5a",
   "metadata": {},
   "outputs": [
    {
     "name": "stdout",
     "output_type": "stream",
     "text": [
      "Image shapes: (120, 116) (120, 116) (120, 116)\n",
      "Image dtype: float32\n",
      "Pixel spacing: 10.249117851257324 nm\n"
     ]
    }
   ],
   "source": [
    "#Make rebinned, smooth phasemaps\n",
    "sigma_mag_rec = 1 #sigma of gaussian filter before magnetisation reconstruction \n",
    "median_footprint=np.ones((9,9))\n",
    "rebin_factor_rec = 8 # to make total number of voxels less than 10^6\n",
    "phase_img_type='f4'\n",
    "erode_depth=3 #number of pixels to remove from edge\n",
    "fill_convolution_radius=2 #smoothness of filled holes\n",
    "\n",
    "\n",
    "#Define mask showing which pixels are wrong.\n",
    "wrong1=np.where(s1.data==0, True, False) \n",
    "wrong2=np.where(s2_tr.data==0, True, False)\n",
    "wrong=np.logical_or(wrong1, wrong2)\n",
    "\n",
    "#get transformed pixel spacing\n",
    "hs_data=pm_mag.rebin(scale=(rebin_factor_rec,rebin_factor_rec))\n",
    "pix_spacing = hs_data.axes_manager.signal_axes[0].scale # nm\n",
    "\n",
    "phase_images = [pm_mag.data, pm_el.data]\n",
    "phase_images = [im[cropping,cropping] for im in phase_images]\n",
    "wrong = wrong[cropping,cropping]\n",
    "processed_phase_images=[]\n",
    "for img in phase_images:\n",
    "    \n",
    "    #the edge most pixels are wrong, hence erode the edges\n",
    "    img, wrong = pu.erode_masked_image(img, wrong, radius=erode_depth, wrong_pixel_value=0) \n",
    "    \n",
    "    #fill in holes and other free space with smooth extensions of the edges\n",
    "    img, temp = pu.fill_masked_image(img, wrong, radius=fill_convolution_radius)\n",
    "    \n",
    "    #filter and rebin\n",
    "    img = skfl.median(img, selem = median_footprint, behavior=\"ndimage\") #remove difference errors and hot pixels\n",
    "    img = skfl.gaussian(img, sigma=sigma_mag_rec) #smooth to remove high spatial frequency noise\n",
    "    img = pu.rebin_img(img, rebin_factor=rebin_factor_rec) #reduce pixel number to reduce memory requirements\n",
    "    img = img.astype(phase_img_type)\n",
    "    processed_phase_images.append(img)\n",
    "    \n",
    "mag_phase, el_phase = processed_phase_images\n",
    "\n",
    "#adjust confidence array to match\n",
    "confidence=np.where(wrong,0,1)\n",
    "confidence = pu.rebin_img(confidence, rebin_factor=rebin_factor_rec)\n",
    "confidence = np.where(confidence>0.9, 1, 0)\n",
    "confidence = confidence.astype(phase_img_type)\n",
    "\n",
    "#highlight wrong areas\n",
    "outside_mask = pa.get_space_around_mask(confidence<1)\n",
    "#el_phase[outside_mask] = 0 #keep holes inside the object filled as that improves mask creation but remove unkown mask regions\n",
    "\n",
    "#save and display\n",
    "Image.fromarray(mag_phase).save(mag_phase_path+\"_smoothed_rebinned.tif\")\n",
    "print(\"Image shapes:\", mag_phase.shape, el_phase.shape, confidence.shape)\n",
    "print(\"Image dtype:\", mag_phase.dtype)\n",
    "print(\"Pixel spacing:\", pix_spacing, \"nm\")\n",
    "pu.matshow_n([mag_phase,el_phase,confidence],[\"Magnetic phase\", \"Mean inner potential\", \"Confidence\"])"
   ]
  },
  {
   "cell_type": "markdown",
   "id": "bc78c3b6",
   "metadata": {},
   "source": [
    "### 1.4 Defining masks"
   ]
  },
  {
   "cell_type": "code",
   "execution_count": 208,
   "id": "e6fa8005",
   "metadata": {},
   "outputs": [
    {
     "name": "stdout",
     "output_type": "stream",
     "text": [
      "2D mask shape: (120, 116)\n",
      "Mask threshold: -3\n"
     ]
    }
   ],
   "source": [
    "#Normalise mean inner potential and define a mask.\n",
    "mask_threshold=-3 #rad. where the wire starts if mean inner potential vacccum phase is 0.\n",
    "residual_threshold = 2 #to avoid outliers in the background fit\n",
    "\n",
    "#remove electrostatic phase ramp\n",
    "(fit, inliers, n) = fpd.ransac_tools.ransac_im_fit(el_phase, \n",
    "                                                   residual_threshold=residual_threshold, mask = confidence < 1,\n",
    "                                                   mode=2, plot=True)\n",
    "\n",
    "# Make mean inner potential vaccum phase == 0.\n",
    "el_flat = el_phase - fit\n",
    "#el_flat[outside_mask]=0\n",
    "\n",
    "# Define mask and remove false pixels\n",
    "mask=np.where(el_flat<mask_threshold, True, False)\n",
    "#mask[outside_mask] = False\n",
    "\n",
    "print(\"2D mask shape:\", mask.shape)\n",
    "print(\"Mask threshold:\", mask_threshold)\n",
    "#check if threshold is appropriate\n",
    "pu.matshow_n([el_flat, mask],[elec_phase_path[:-4]+\"mask selector\", elec_phase_path[:-4]+\"mask\"], save=True)\n"
   ]
  },
  {
   "cell_type": "markdown",
   "id": "f60ebf99",
   "metadata": {},
   "source": [
    "### 1.5 Saving results"
   ]
  },
  {
   "cell_type": "code",
   "execution_count": 202,
   "id": "e3108dfd",
   "metadata": {},
   "outputs": [
    {
     "name": "stdout",
     "output_type": "stream",
     "text": [
      "i: 8\n",
      "xtilt: -60.0\n",
      "Reconstruction voxel number: 13920\n",
      "Pixel size: 10.2491 nm\n",
      "3d reconstructions dimensions: (1, 120, 116)\n",
      "starting projector calculation\n",
      "projector calculation finished\n",
      "Data saved as: -60\\data.pickle\n"
     ]
    }
   ],
   "source": [
    "#create data storage object for reconstruction and save it\n",
    "\n",
    "xtilt=x_tilts[i]\n",
    "save_data=True\n",
    "\n",
    "print(\"i:\",i)\n",
    "print(\"xtilt:\", xtilt)\n",
    "\n",
    "datas[i]=pa.make_projection_data_simple(mag_phase, mask, confidence, xtilt=xtilt, pix_spacing=pix_spacing, save_data=save_data, data_path=data_path)"
   ]
  },
  {
   "cell_type": "markdown",
   "id": "bd323064",
   "metadata": {},
   "source": [
    "### 1.6 2D reconstruction to check correctness"
   ]
  },
  {
   "cell_type": "code",
   "execution_count": 32,
   "id": "ac32d8aa",
   "metadata": {},
   "outputs": [],
   "source": [
    "#quick reconstruction\n",
    "\n",
    "#simulation might be wrong if axis is tilted??\n",
    "\n",
    "magdata_rec, cost_fun = pre.reconstruct_from_phasemaps_simple(datas[i], verbose=False, max_iter=200)"
   ]
  },
  {
   "cell_type": "markdown",
   "id": "3d017cda",
   "metadata": {},
   "source": [
    "### Hyperlink\n",
    "[Back to index defining cell](#index_cell)\n",
    "\n",
    "#### End of notebook. Once phase images have been aligned for all tilt angles, see alignment notebook to form a tilt series."
   ]
  },
  {
   "cell_type": "code",
   "execution_count": null,
   "id": "f299d405",
   "metadata": {},
   "outputs": [],
   "source": []
  }
 ],
 "metadata": {
  "kernelspec": {
   "display_name": "Python [conda env:pyramidPatched2] *",
   "language": "python",
   "name": "conda-env-pyramidPatched2-py"
  },
  "language_info": {
   "codemirror_mode": {
    "name": "ipython",
    "version": 3
   },
   "file_extension": ".py",
   "mimetype": "text/x-python",
   "name": "python",
   "nbconvert_exporter": "python",
   "pygments_lexer": "ipython3",
   "version": "3.7.1"
  }
 },
 "nbformat": 4,
 "nbformat_minor": 5
}
